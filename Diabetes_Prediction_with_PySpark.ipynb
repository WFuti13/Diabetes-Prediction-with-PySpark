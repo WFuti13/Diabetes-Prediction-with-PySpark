{
  "nbformat": 4,
  "nbformat_minor": 0,
  "metadata": {
    "colab": {
      "provenance": []
    },
    "kernelspec": {
      "name": "python3",
      "display_name": "Python 3"
    },
    "language_info": {
      "name": "python"
    }
  },
  "cells": [
    {
      "cell_type": "markdown",
      "source": [
        "# **Importing Libraries**"
      ],
      "metadata": {
        "id": "UNZnKO97LmXh"
      }
    },
    {
      "cell_type": "code",
      "source": [
        "!pip install pyspark"
      ],
      "metadata": {
        "colab": {
          "base_uri": "https://localhost:8080/"
        },
        "id": "kaHlJL1jYd_k",
        "outputId": "204ed486-a0e4-446a-9c92-13814cc9d4e9"
      },
      "execution_count": null,
      "outputs": [
        {
          "output_type": "stream",
          "name": "stdout",
          "text": [
            "Collecting pyspark\n",
            "  Downloading pyspark-3.5.1.tar.gz (317.0 MB)\n",
            "\u001b[2K     \u001b[90m━━━━━━━━━━━━━━━━━━━━━━━━━━━━━━━━━━━━━━━━\u001b[0m \u001b[32m317.0/317.0 MB\u001b[0m \u001b[31m2.3 MB/s\u001b[0m eta \u001b[36m0:00:00\u001b[0m\n",
            "\u001b[?25h  Preparing metadata (setup.py) ... \u001b[?25l\u001b[?25hdone\n",
            "Requirement already satisfied: py4j==0.10.9.7 in /usr/local/lib/python3.10/dist-packages (from pyspark) (0.10.9.7)\n",
            "Building wheels for collected packages: pyspark\n",
            "  Building wheel for pyspark (setup.py) ... \u001b[?25l\u001b[?25hdone\n",
            "  Created wheel for pyspark: filename=pyspark-3.5.1-py2.py3-none-any.whl size=317488491 sha256=e47dc602508b3f5dac807b9ad94c92d78ee9116bef03a616f0e45afd15ac5565\n",
            "  Stored in directory: /root/.cache/pip/wheels/80/1d/60/2c256ed38dddce2fdd93be545214a63e02fbd8d74fb0b7f3a6\n",
            "Successfully built pyspark\n",
            "Installing collected packages: pyspark\n",
            "Successfully installed pyspark-3.5.1\n"
          ]
        }
      ]
    },
    {
      "cell_type": "code",
      "execution_count": null,
      "metadata": {
        "id": "w-neNoHpJ_0G"
      },
      "outputs": [],
      "source": [
        "from warnings import filterwarnings\n",
        "filterwarnings('ignore')\n",
        "import matplotlib.pyplot as plt\n",
        "import seaborn as sns\n",
        "import numpy as np\n",
        "import pandas as pd\n",
        "from pyspark.sql.functions import when\n",
        "import matplotlib.pyplot as plt\n",
        "from pyspark.sql.functions import col, exp"
      ]
    },
    {
      "cell_type": "code",
      "source": [
        "import pyspark\n",
        "from pyspark.sql import SparkSession\n",
        "from pyspark.conf import SparkConf\n",
        "from pyspark import SparkContext\n",
        "\n",
        "spark = SparkSession.builder \\\n",
        "    .master(\"local\") \\\n",
        "    .appName(\"diabetes_modelling\") \\\n",
        "    .config(\"spark.executer.memory\", \"16gb\") \\\n",
        "    .getOrCreate()\n",
        "\n",
        "\n",
        "\n",
        "sc = spark.sparkContext\n",
        "sc"
      ],
      "metadata": {
        "colab": {
          "base_uri": "https://localhost:8080/",
          "height": 198
        },
        "id": "dUhy8gpvKy3W",
        "outputId": "92618b8a-62a1-4e8a-f233-abe7460c89f6"
      },
      "execution_count": null,
      "outputs": [
        {
          "output_type": "execute_result",
          "data": {
            "text/plain": [
              "<SparkContext master=local appName=diabetes_modelling>"
            ],
            "text/html": [
              "\n",
              "        <div>\n",
              "            <p><b>SparkContext</b></p>\n",
              "\n",
              "            <p><a href=\"http://cc47a13d17d7:4040\">Spark UI</a></p>\n",
              "\n",
              "            <dl>\n",
              "              <dt>Version</dt>\n",
              "                <dd><code>v3.5.1</code></dd>\n",
              "              <dt>Master</dt>\n",
              "                <dd><code>local</code></dd>\n",
              "              <dt>AppName</dt>\n",
              "                <dd><code>diabetes_modelling</code></dd>\n",
              "            </dl>\n",
              "        </div>\n",
              "        "
            ]
          },
          "metadata": {},
          "execution_count": 3
        }
      ]
    },
    {
      "cell_type": "code",
      "source": [
        "spark_df=spark.read.csv(\"/content/sample_data/diabetes_prediction_dataset.csv\",header=True,inferSchema=True,sep=\",\")\n",
        "spark_df.cache()"
      ],
      "metadata": {
        "colab": {
          "base_uri": "https://localhost:8080/"
        },
        "id": "Q_dQj8wgNZrE",
        "outputId": "b69e0343-5c86-4c26-89ce-4105d647f2a7"
      },
      "execution_count": null,
      "outputs": [
        {
          "output_type": "execute_result",
          "data": {
            "text/plain": [
              "DataFrame[gender: string, age: double, hypertension: int, heart_disease: int, smoking_history: string, bmi: double, HbA1c_level: double, blood_glucose_level: int, diabetes: int]"
            ]
          },
          "metadata": {},
          "execution_count": 4
        }
      ]
    },
    {
      "cell_type": "code",
      "source": [
        "spark_df.printSchema()"
      ],
      "metadata": {
        "colab": {
          "base_uri": "https://localhost:8080/"
        },
        "id": "xerVHMrAOeT5",
        "outputId": "ef8b96c4-e24c-4a36-c8a0-9de1e0a3a7f5"
      },
      "execution_count": null,
      "outputs": [
        {
          "output_type": "stream",
          "name": "stdout",
          "text": [
            "root\n",
            " |-- gender: string (nullable = true)\n",
            " |-- age: double (nullable = true)\n",
            " |-- hypertension: integer (nullable = true)\n",
            " |-- heart_disease: integer (nullable = true)\n",
            " |-- smoking_history: string (nullable = true)\n",
            " |-- bmi: double (nullable = true)\n",
            " |-- HbA1c_level: double (nullable = true)\n",
            " |-- blood_glucose_level: integer (nullable = true)\n",
            " |-- diabetes: integer (nullable = true)\n",
            "\n"
          ]
        }
      ]
    },
    {
      "cell_type": "code",
      "source": [
        "spark_df.show(5)"
      ],
      "metadata": {
        "colab": {
          "base_uri": "https://localhost:8080/"
        },
        "id": "3d_d3utLOlZh",
        "outputId": "8ec716b3-ba22-4eb1-f93e-bca254d74872"
      },
      "execution_count": null,
      "outputs": [
        {
          "output_type": "stream",
          "name": "stdout",
          "text": [
            "+------+----+------------+-------------+---------------+-----+-----------+-------------------+--------+\n",
            "|gender| age|hypertension|heart_disease|smoking_history|  bmi|HbA1c_level|blood_glucose_level|diabetes|\n",
            "+------+----+------------+-------------+---------------+-----+-----------+-------------------+--------+\n",
            "|Female|80.0|           0|            1|          never|25.19|        6.6|                140|       0|\n",
            "|Female|54.0|           0|            0|        No Info|27.32|        6.6|                 80|       0|\n",
            "|  Male|28.0|           0|            0|          never|27.32|        5.7|                158|       0|\n",
            "|Female|36.0|           0|            0|        current|23.45|        5.0|                155|       0|\n",
            "|  Male|76.0|           1|            1|        current|20.14|        4.8|                155|       0|\n",
            "+------+----+------------+-------------+---------------+-----+-----------+-------------------+--------+\n",
            "only showing top 5 rows\n",
            "\n"
          ]
        }
      ]
    },
    {
      "cell_type": "code",
      "source": [
        "spark_df.count()"
      ],
      "metadata": {
        "colab": {
          "base_uri": "https://localhost:8080/"
        },
        "id": "EIBcmFTAOr6E",
        "outputId": "347556d7-d4e1-4fd9-f936-4ad16af06c28"
      },
      "execution_count": null,
      "outputs": [
        {
          "output_type": "execute_result",
          "data": {
            "text/plain": [
              "100000"
            ]
          },
          "metadata": {},
          "execution_count": 7
        }
      ]
    },
    {
      "cell_type": "code",
      "source": [
        "len(spark_df.columns)"
      ],
      "metadata": {
        "colab": {
          "base_uri": "https://localhost:8080/"
        },
        "id": "hsoUKqnSPEfs",
        "outputId": "b861d88e-f65c-4824-aabb-0e356783ca25"
      },
      "execution_count": null,
      "outputs": [
        {
          "output_type": "execute_result",
          "data": {
            "text/plain": [
              "9"
            ]
          },
          "metadata": {},
          "execution_count": 8
        }
      ]
    },
    {
      "cell_type": "code",
      "source": [
        "spark_df.describe().show()"
      ],
      "metadata": {
        "colab": {
          "base_uri": "https://localhost:8080/"
        },
        "id": "-a3f-N1hQP5j",
        "outputId": "5c336132-86cb-4a2d-89e6-5c210a9ff839"
      },
      "execution_count": null,
      "outputs": [
        {
          "output_type": "stream",
          "name": "stdout",
          "text": [
            "+-------+------+-----------------+------------------+------------------+---------------+-----------------+------------------+-------------------+-------------------+\n",
            "|summary|gender|              age|      hypertension|     heart_disease|smoking_history|              bmi|       HbA1c_level|blood_glucose_level|           diabetes|\n",
            "+-------+------+-----------------+------------------+------------------+---------------+-----------------+------------------+-------------------+-------------------+\n",
            "|  count|100000|           100000|            100000|            100000|         100000|           100000|            100000|             100000|             100000|\n",
            "|   mean|  NULL|41.88585600000013|           0.07485|           0.03942|           NULL|27.32076709999422|5.5275069999983275|          138.05806|              0.085|\n",
            "| stddev|  NULL|22.51683987161704|0.2631504702289171|0.1945930169980986|           NULL|6.636783416648357|1.0706720918835468|  40.70813604870383|0.27888308976661896|\n",
            "|    min|Female|             0.08|                 0|                 0|        No Info|            10.01|               3.5|                 80|                  0|\n",
            "|    max| Other|             80.0|                 1|                 1|    not current|            95.69|               9.0|                300|                  1|\n",
            "+-------+------+-----------------+------------------+------------------+---------------+-----------------+------------------+-------------------+-------------------+\n",
            "\n"
          ]
        }
      ]
    },
    {
      "cell_type": "code",
      "source": [
        "spark_df.describe(\"blood_glucose_level\").show()"
      ],
      "metadata": {
        "colab": {
          "base_uri": "https://localhost:8080/"
        },
        "id": "07W_TqitQaKj",
        "outputId": "3f8b96df-6633-48ee-b55f-0c5f89ead68a"
      },
      "execution_count": null,
      "outputs": [
        {
          "output_type": "stream",
          "name": "stdout",
          "text": [
            "+-------+-------------------+\n",
            "|summary|blood_glucose_level|\n",
            "+-------+-------------------+\n",
            "|  count|             100000|\n",
            "|   mean|          138.05806|\n",
            "| stddev|  40.70813604870383|\n",
            "|    min|                 80|\n",
            "|    max|                300|\n",
            "+-------+-------------------+\n",
            "\n"
          ]
        }
      ]
    },
    {
      "cell_type": "code",
      "source": [
        "spark_df.select(\"blood_glucose_level\").show(5)"
      ],
      "metadata": {
        "colab": {
          "base_uri": "https://localhost:8080/"
        },
        "id": "L2LxKj0CRWqb",
        "outputId": "de0416f2-105e-406b-fbb0-8b0b2472e5d1"
      },
      "execution_count": null,
      "outputs": [
        {
          "output_type": "stream",
          "name": "stdout",
          "text": [
            "+-------------------+\n",
            "|blood_glucose_level|\n",
            "+-------------------+\n",
            "|                140|\n",
            "|                 80|\n",
            "|                158|\n",
            "|                155|\n",
            "|                155|\n",
            "+-------------------+\n",
            "only showing top 5 rows\n",
            "\n"
          ]
        }
      ]
    },
    {
      "cell_type": "code",
      "source": [
        "spark_df.dropDuplicates().show()"
      ],
      "metadata": {
        "colab": {
          "base_uri": "https://localhost:8080/"
        },
        "id": "KANPY2zNe8e_",
        "outputId": "a9925dc1-4039-4d8a-9a7b-03908688fed6"
      },
      "execution_count": null,
      "outputs": [
        {
          "output_type": "stream",
          "name": "stdout",
          "text": [
            "+------+----+------------+-------------+---------------+-----+-----------+-------------------+--------+\n",
            "|gender| age|hypertension|heart_disease|smoking_history|  bmi|HbA1c_level|blood_glucose_level|diabetes|\n",
            "+------+----+------------+-------------+---------------+-----+-----------+-------------------+--------+\n",
            "|Female|21.0|           0|            0|          never|27.32|        5.8|                126|       0|\n",
            "|  Male|26.0|           0|            0|          never|27.32|        6.6|                100|       0|\n",
            "|Female|49.0|           0|            0|          never| 21.7|        5.8|                158|       0|\n",
            "|Female|24.0|           0|            0|         former|20.47|        4.8|                100|       0|\n",
            "|Female|53.0|           0|            0|          never| 31.4|        5.7|                 85|       0|\n",
            "|Female|74.0|           0|            0|         former| 40.5|        3.5|                160|       0|\n",
            "|  Male|76.0|           0|            0|         former|27.76|        6.5|                158|       0|\n",
            "|  Male| 5.0|           0|            0|        No Info| 17.9|        6.6|                126|       0|\n",
            "|Female|55.0|           0|            0|          never|42.64|        6.0|                155|       1|\n",
            "|  Male|68.0|           1|            0|          never|42.15|        6.2|                145|       1|\n",
            "|Female|26.0|           0|            0|          never|39.93|        4.0|                160|       0|\n",
            "|Female|62.0|           0|            0|          never|25.71|        5.0|                145|       0|\n",
            "|  Male|0.48|           0|            0|        No Info|15.19|        4.8|                140|       0|\n",
            "|Female|17.0|           0|            0|    not current|18.71|        5.0|                200|       0|\n",
            "|  Male|15.0|           0|            0|        No Info| 23.2|        3.5|                155|       0|\n",
            "|Female|51.0|           0|            0|         former|27.32|        3.5|                160|       0|\n",
            "|Female|73.0|           1|            0|          never| 22.8|        9.0|                126|       1|\n",
            "|  Male|49.0|           0|            0|          never| 32.5|        5.8|                145|       0|\n",
            "|Female|60.0|           0|            0|          never|45.98|        6.5|                159|       1|\n",
            "|Female| 4.0|           0|            0|        No Info|15.88|        4.5|                140|       0|\n",
            "+------+----+------------+-------------+---------------+-----+-----------+-------------------+--------+\n",
            "only showing top 20 rows\n",
            "\n"
          ]
        }
      ]
    },
    {
      "cell_type": "code",
      "source": [
        "spark_df.distinct().count()"
      ],
      "metadata": {
        "colab": {
          "base_uri": "https://localhost:8080/"
        },
        "id": "6v8LwklMPO6t",
        "outputId": "91003bbe-3fe8-41d5-f759-3d9f523672d0"
      },
      "execution_count": null,
      "outputs": [
        {
          "output_type": "execute_result",
          "data": {
            "text/plain": [
              "96146"
            ]
          },
          "metadata": {},
          "execution_count": 13
        }
      ]
    },
    {
      "cell_type": "code",
      "source": [
        "spark_df.crosstab(\"age\",\"blood_glucose_level\").show()"
      ],
      "metadata": {
        "colab": {
          "base_uri": "https://localhost:8080/"
        },
        "id": "0cgslG06hLH9",
        "outputId": "cf76e720-0f5c-4700-e8fb-aca13a6358dc"
      },
      "execution_count": null,
      "outputs": [
        {
          "output_type": "stream",
          "name": "stdout",
          "text": [
            "+-----------------------+---+---+---+---+---+---+---+---+---+---+---+---+---+---+---+---+---+---+\n",
            "|age_blood_glucose_level|100|126|130|140|145|155|158|159|160|200|220|240|260|280|300| 80| 85| 90|\n",
            "+-----------------------+---+---+---+---+---+---+---+---+---+---+---+---+---+---+---+---+---+---+\n",
            "|                    1.0| 11|  5|  6|  8|  3|  8|  4|  8|  2|  5|  0|  0|  0|  0|  0|  6| 11|  6|\n",
            "|                   0.32|  5|  9|  8|  4|  8|  8|  4| 10|  7|  4|  0|  0|  0|  0|  0|  8|  6|  8|\n",
            "|                   50.0| 92|110|119|123|128|102| 90|101|117|114|  7|  8| 14| 14| 13| 98| 93|112|\n",
            "|                   75.0| 33| 53| 56| 50| 61| 44| 53| 61| 56| 59|  8| 13|  8| 21| 12| 42| 51| 40|\n",
            "|                   22.0| 91| 94|102| 98| 99| 83|109| 96| 80| 81|  4|  4|  0|  2|  3| 99| 95| 97|\n",
            "|                   65.0| 82| 87| 83| 98| 81| 74| 67| 86| 99| 78| 24| 14| 17| 28| 17| 52| 69| 78|\n",
            "|                   38.0|109|114|126| 97|129|108|128|105| 86|109|  8|  5|  6|  5|  8|130|126| 99|\n",
            "|                   66.0| 75| 97| 96| 82| 87| 90| 59| 98| 93| 92| 24| 11| 20| 15| 19| 69| 81| 68|\n",
            "|                   20.0| 94| 98| 94| 84| 91| 90|110| 79| 96|109|  1|  0|  0|  1|  1| 93| 94|101|\n",
            "|                   15.0| 68| 74| 70| 75| 84| 73| 66| 74| 72| 82|  1|  0|  1|  1|  1| 80| 75| 71|\n",
            "|                   45.0|101|119|117|122|102|102|105|117|109|114|  6|  3|  7| 11| 14|117| 92|111|\n",
            "|                   67.0| 58| 93| 77| 77| 69| 89| 64| 72| 82| 80| 19| 21| 21| 17| 22| 67| 60| 52|\n",
            "|                   47.0|109|124|116|107|116|120|116|112|128|137|  6| 11|  9| 13| 13|114|105|118|\n",
            "|                   44.0|117|111|106|114|126|106|102|112|121| 96|  3|  3|  4|  4|  9| 87| 91| 90|\n",
            "|                   63.0| 66| 70| 93| 75| 86| 79| 61| 89| 93|100|  9| 21| 15| 16| 19| 64| 59| 74|\n",
            "|                   69.0| 65| 82| 69| 80| 61| 74| 60| 69| 71| 67| 12| 14| 24| 22| 15| 49| 73| 59|\n",
            "|                   25.0| 86| 98|103|109| 87| 83|117| 87| 93|102|  3|  1|  1|  1|  0| 99| 79|100|\n",
            "|                   0.72|  6|  7|  8| 13|  7|  5|  4| 12| 12|  5|  0|  0|  0|  0|  0|  5|  7| 13|\n",
            "|                   26.0| 89| 89| 96| 86|103|113| 96| 92|102|110|  1|  1|  1|  2|  1| 93| 96|102|\n",
            "|                   78.0| 43| 60| 55| 58| 40| 54| 34| 58| 51| 45| 10| 13| 12|  8| 13| 40| 34| 54|\n",
            "+-----------------------+---+---+---+---+---+---+---+---+---+---+---+---+---+---+---+---+---+---+\n",
            "only showing top 20 rows\n",
            "\n"
          ]
        }
      ]
    },
    {
      "cell_type": "markdown",
      "source": [
        "# **Outlier Detection**"
      ],
      "metadata": {
        "id": "p3FFM6-QZWnM"
      }
    },
    {
      "cell_type": "code",
      "source": [
        "numericals=[\"age\",\"bmi\",\"HbA1c_level\",\"blood_glucose_level\"]\n",
        "bounds={}"
      ],
      "metadata": {
        "id": "-2JRv1Enj7kn"
      },
      "execution_count": null,
      "outputs": []
    },
    {
      "cell_type": "code",
      "source": [
        "for nc in numericals:\n",
        "\n",
        "  quantiles = spark_df.approxQuantile(nc, [0.25,0.75], relativeError=0.05)\n",
        "  IQR=quantiles[1]-quantiles[0]\n",
        "  bounds[nc]=[\n",
        "      quantiles[0]-1.5*IQR,\n",
        "      quantiles[1]+1.5*IQR\n",
        "  ]\n"
      ],
      "metadata": {
        "id": "3C1OjYfdbvGB"
      },
      "execution_count": null,
      "outputs": []
    },
    {
      "cell_type": "code",
      "source": [
        "bounds"
      ],
      "metadata": {
        "colab": {
          "base_uri": "https://localhost:8080/"
        },
        "id": "c7ZSdzIucktG",
        "outputId": "ab32b9e9-31a3-43a5-c24b-b89d3b8eac8f"
      },
      "execution_count": null,
      "outputs": [
        {
          "output_type": "execute_result",
          "data": {
            "text/plain": [
              "{'age': [-23.0, 105.0],\n",
              " 'bmi': [16.765, 35.765],\n",
              " 'HbA1c_level': [2.6999999999999993, 8.3],\n",
              " 'blood_glucose_level': [13.0, 245.0]}"
            ]
          },
          "metadata": {},
          "execution_count": 17
        }
      ]
    },
    {
      "cell_type": "code",
      "source": [
        "from pyspark.sql.functions import col\n",
        "import pyspark.sql.functions as F\n",
        "from functools import reduce\n",
        "spark_df.select(\n",
        "    *[col(c) for c in numericals],\n",
        "    *[\n",
        "        F.when(\n",
        "           col(c).between(bounds[c][0], bounds[c][1]),\n",
        "           0\n",
        "        ).otherwise(1).alias(c+\"_out\")\n",
        "        for c in numericals\n",
        "    ]\n",
        ").where(reduce(lambda x, y: x | y,  (col(c+\"_out\") == 1 for c in numericals))).toPandas()"
      ],
      "metadata": {
        "colab": {
          "base_uri": "https://localhost:8080/",
          "height": 443
        },
        "id": "W5IqNiQ0cooJ",
        "outputId": "75db9956-ba3f-4069-c444-561233035962"
      },
      "execution_count": null,
      "outputs": [
        {
          "output_type": "execute_result",
          "data": {
            "text/plain": [
              "        age    bmi  HbA1c_level  blood_glucose_level  age_out  bmi_out  \\\n",
              "0      54.0  54.70          6.0                  100        0        1   \n",
              "1      78.0  36.05          5.0                  130        0        1   \n",
              "2      40.0  36.38          6.0                   90        0        1   \n",
              "3       4.0  13.99          4.0                  140        0        1   \n",
              "4       5.0  15.10          5.8                   85        0        1   \n",
              "...     ...    ...          ...                  ...      ...      ...   \n",
              "16625  61.0  34.45          6.5                  280        0        0   \n",
              "16626  47.0  45.15          4.0                  126        0        1   \n",
              "16627  58.0  38.31          7.0                  200        0        1   \n",
              "16628  32.0  37.71          6.1                  126        0        1   \n",
              "16629  40.0  40.69          3.5                  155        0        1   \n",
              "\n",
              "       HbA1c_level_out  blood_glucose_level_out  \n",
              "0                    0                        0  \n",
              "1                    0                        0  \n",
              "2                    0                        0  \n",
              "3                    0                        0  \n",
              "4                    0                        0  \n",
              "...                ...                      ...  \n",
              "16625                0                        1  \n",
              "16626                0                        0  \n",
              "16627                0                        0  \n",
              "16628                0                        0  \n",
              "16629                0                        0  \n",
              "\n",
              "[16630 rows x 8 columns]"
            ],
            "text/html": [
              "\n",
              "  <div id=\"df-3182fbf9-ed56-4254-a483-fc0f877cfde4\" class=\"colab-df-container\">\n",
              "    <div>\n",
              "<style scoped>\n",
              "    .dataframe tbody tr th:only-of-type {\n",
              "        vertical-align: middle;\n",
              "    }\n",
              "\n",
              "    .dataframe tbody tr th {\n",
              "        vertical-align: top;\n",
              "    }\n",
              "\n",
              "    .dataframe thead th {\n",
              "        text-align: right;\n",
              "    }\n",
              "</style>\n",
              "<table border=\"1\" class=\"dataframe\">\n",
              "  <thead>\n",
              "    <tr style=\"text-align: right;\">\n",
              "      <th></th>\n",
              "      <th>age</th>\n",
              "      <th>bmi</th>\n",
              "      <th>HbA1c_level</th>\n",
              "      <th>blood_glucose_level</th>\n",
              "      <th>age_out</th>\n",
              "      <th>bmi_out</th>\n",
              "      <th>HbA1c_level_out</th>\n",
              "      <th>blood_glucose_level_out</th>\n",
              "    </tr>\n",
              "  </thead>\n",
              "  <tbody>\n",
              "    <tr>\n",
              "      <th>0</th>\n",
              "      <td>54.0</td>\n",
              "      <td>54.70</td>\n",
              "      <td>6.0</td>\n",
              "      <td>100</td>\n",
              "      <td>0</td>\n",
              "      <td>1</td>\n",
              "      <td>0</td>\n",
              "      <td>0</td>\n",
              "    </tr>\n",
              "    <tr>\n",
              "      <th>1</th>\n",
              "      <td>78.0</td>\n",
              "      <td>36.05</td>\n",
              "      <td>5.0</td>\n",
              "      <td>130</td>\n",
              "      <td>0</td>\n",
              "      <td>1</td>\n",
              "      <td>0</td>\n",
              "      <td>0</td>\n",
              "    </tr>\n",
              "    <tr>\n",
              "      <th>2</th>\n",
              "      <td>40.0</td>\n",
              "      <td>36.38</td>\n",
              "      <td>6.0</td>\n",
              "      <td>90</td>\n",
              "      <td>0</td>\n",
              "      <td>1</td>\n",
              "      <td>0</td>\n",
              "      <td>0</td>\n",
              "    </tr>\n",
              "    <tr>\n",
              "      <th>3</th>\n",
              "      <td>4.0</td>\n",
              "      <td>13.99</td>\n",
              "      <td>4.0</td>\n",
              "      <td>140</td>\n",
              "      <td>0</td>\n",
              "      <td>1</td>\n",
              "      <td>0</td>\n",
              "      <td>0</td>\n",
              "    </tr>\n",
              "    <tr>\n",
              "      <th>4</th>\n",
              "      <td>5.0</td>\n",
              "      <td>15.10</td>\n",
              "      <td>5.8</td>\n",
              "      <td>85</td>\n",
              "      <td>0</td>\n",
              "      <td>1</td>\n",
              "      <td>0</td>\n",
              "      <td>0</td>\n",
              "    </tr>\n",
              "    <tr>\n",
              "      <th>...</th>\n",
              "      <td>...</td>\n",
              "      <td>...</td>\n",
              "      <td>...</td>\n",
              "      <td>...</td>\n",
              "      <td>...</td>\n",
              "      <td>...</td>\n",
              "      <td>...</td>\n",
              "      <td>...</td>\n",
              "    </tr>\n",
              "    <tr>\n",
              "      <th>16625</th>\n",
              "      <td>61.0</td>\n",
              "      <td>34.45</td>\n",
              "      <td>6.5</td>\n",
              "      <td>280</td>\n",
              "      <td>0</td>\n",
              "      <td>0</td>\n",
              "      <td>0</td>\n",
              "      <td>1</td>\n",
              "    </tr>\n",
              "    <tr>\n",
              "      <th>16626</th>\n",
              "      <td>47.0</td>\n",
              "      <td>45.15</td>\n",
              "      <td>4.0</td>\n",
              "      <td>126</td>\n",
              "      <td>0</td>\n",
              "      <td>1</td>\n",
              "      <td>0</td>\n",
              "      <td>0</td>\n",
              "    </tr>\n",
              "    <tr>\n",
              "      <th>16627</th>\n",
              "      <td>58.0</td>\n",
              "      <td>38.31</td>\n",
              "      <td>7.0</td>\n",
              "      <td>200</td>\n",
              "      <td>0</td>\n",
              "      <td>1</td>\n",
              "      <td>0</td>\n",
              "      <td>0</td>\n",
              "    </tr>\n",
              "    <tr>\n",
              "      <th>16628</th>\n",
              "      <td>32.0</td>\n",
              "      <td>37.71</td>\n",
              "      <td>6.1</td>\n",
              "      <td>126</td>\n",
              "      <td>0</td>\n",
              "      <td>1</td>\n",
              "      <td>0</td>\n",
              "      <td>0</td>\n",
              "    </tr>\n",
              "    <tr>\n",
              "      <th>16629</th>\n",
              "      <td>40.0</td>\n",
              "      <td>40.69</td>\n",
              "      <td>3.5</td>\n",
              "      <td>155</td>\n",
              "      <td>0</td>\n",
              "      <td>1</td>\n",
              "      <td>0</td>\n",
              "      <td>0</td>\n",
              "    </tr>\n",
              "  </tbody>\n",
              "</table>\n",
              "<p>16630 rows × 8 columns</p>\n",
              "</div>\n",
              "    <div class=\"colab-df-buttons\">\n",
              "\n",
              "  <div class=\"colab-df-container\">\n",
              "    <button class=\"colab-df-convert\" onclick=\"convertToInteractive('df-3182fbf9-ed56-4254-a483-fc0f877cfde4')\"\n",
              "            title=\"Convert this dataframe to an interactive table.\"\n",
              "            style=\"display:none;\">\n",
              "\n",
              "  <svg xmlns=\"http://www.w3.org/2000/svg\" height=\"24px\" viewBox=\"0 -960 960 960\">\n",
              "    <path d=\"M120-120v-720h720v720H120Zm60-500h600v-160H180v160Zm220 220h160v-160H400v160Zm0 220h160v-160H400v160ZM180-400h160v-160H180v160Zm440 0h160v-160H620v160ZM180-180h160v-160H180v160Zm440 0h160v-160H620v160Z\"/>\n",
              "  </svg>\n",
              "    </button>\n",
              "\n",
              "  <style>\n",
              "    .colab-df-container {\n",
              "      display:flex;\n",
              "      gap: 12px;\n",
              "    }\n",
              "\n",
              "    .colab-df-convert {\n",
              "      background-color: #E8F0FE;\n",
              "      border: none;\n",
              "      border-radius: 50%;\n",
              "      cursor: pointer;\n",
              "      display: none;\n",
              "      fill: #1967D2;\n",
              "      height: 32px;\n",
              "      padding: 0 0 0 0;\n",
              "      width: 32px;\n",
              "    }\n",
              "\n",
              "    .colab-df-convert:hover {\n",
              "      background-color: #E2EBFA;\n",
              "      box-shadow: 0px 1px 2px rgba(60, 64, 67, 0.3), 0px 1px 3px 1px rgba(60, 64, 67, 0.15);\n",
              "      fill: #174EA6;\n",
              "    }\n",
              "\n",
              "    .colab-df-buttons div {\n",
              "      margin-bottom: 4px;\n",
              "    }\n",
              "\n",
              "    [theme=dark] .colab-df-convert {\n",
              "      background-color: #3B4455;\n",
              "      fill: #D2E3FC;\n",
              "    }\n",
              "\n",
              "    [theme=dark] .colab-df-convert:hover {\n",
              "      background-color: #434B5C;\n",
              "      box-shadow: 0px 1px 3px 1px rgba(0, 0, 0, 0.15);\n",
              "      filter: drop-shadow(0px 1px 2px rgba(0, 0, 0, 0.3));\n",
              "      fill: #FFFFFF;\n",
              "    }\n",
              "  </style>\n",
              "\n",
              "    <script>\n",
              "      const buttonEl =\n",
              "        document.querySelector('#df-3182fbf9-ed56-4254-a483-fc0f877cfde4 button.colab-df-convert');\n",
              "      buttonEl.style.display =\n",
              "        google.colab.kernel.accessAllowed ? 'block' : 'none';\n",
              "\n",
              "      async function convertToInteractive(key) {\n",
              "        const element = document.querySelector('#df-3182fbf9-ed56-4254-a483-fc0f877cfde4');\n",
              "        const dataTable =\n",
              "          await google.colab.kernel.invokeFunction('convertToInteractive',\n",
              "                                                    [key], {});\n",
              "        if (!dataTable) return;\n",
              "\n",
              "        const docLinkHtml = 'Like what you see? Visit the ' +\n",
              "          '<a target=\"_blank\" href=https://colab.research.google.com/notebooks/data_table.ipynb>data table notebook</a>'\n",
              "          + ' to learn more about interactive tables.';\n",
              "        element.innerHTML = '';\n",
              "        dataTable['output_type'] = 'display_data';\n",
              "        await google.colab.output.renderOutput(dataTable, element);\n",
              "        const docLink = document.createElement('div');\n",
              "        docLink.innerHTML = docLinkHtml;\n",
              "        element.appendChild(docLink);\n",
              "      }\n",
              "    </script>\n",
              "  </div>\n",
              "\n",
              "\n",
              "<div id=\"df-4c0f0f11-3dec-4dd6-bc9d-f7862107c81a\">\n",
              "  <button class=\"colab-df-quickchart\" onclick=\"quickchart('df-4c0f0f11-3dec-4dd6-bc9d-f7862107c81a')\"\n",
              "            title=\"Suggest charts\"\n",
              "            style=\"display:none;\">\n",
              "\n",
              "<svg xmlns=\"http://www.w3.org/2000/svg\" height=\"24px\"viewBox=\"0 0 24 24\"\n",
              "     width=\"24px\">\n",
              "    <g>\n",
              "        <path d=\"M19 3H5c-1.1 0-2 .9-2 2v14c0 1.1.9 2 2 2h14c1.1 0 2-.9 2-2V5c0-1.1-.9-2-2-2zM9 17H7v-7h2v7zm4 0h-2V7h2v10zm4 0h-2v-4h2v4z\"/>\n",
              "    </g>\n",
              "</svg>\n",
              "  </button>\n",
              "\n",
              "<style>\n",
              "  .colab-df-quickchart {\n",
              "      --bg-color: #E8F0FE;\n",
              "      --fill-color: #1967D2;\n",
              "      --hover-bg-color: #E2EBFA;\n",
              "      --hover-fill-color: #174EA6;\n",
              "      --disabled-fill-color: #AAA;\n",
              "      --disabled-bg-color: #DDD;\n",
              "  }\n",
              "\n",
              "  [theme=dark] .colab-df-quickchart {\n",
              "      --bg-color: #3B4455;\n",
              "      --fill-color: #D2E3FC;\n",
              "      --hover-bg-color: #434B5C;\n",
              "      --hover-fill-color: #FFFFFF;\n",
              "      --disabled-bg-color: #3B4455;\n",
              "      --disabled-fill-color: #666;\n",
              "  }\n",
              "\n",
              "  .colab-df-quickchart {\n",
              "    background-color: var(--bg-color);\n",
              "    border: none;\n",
              "    border-radius: 50%;\n",
              "    cursor: pointer;\n",
              "    display: none;\n",
              "    fill: var(--fill-color);\n",
              "    height: 32px;\n",
              "    padding: 0;\n",
              "    width: 32px;\n",
              "  }\n",
              "\n",
              "  .colab-df-quickchart:hover {\n",
              "    background-color: var(--hover-bg-color);\n",
              "    box-shadow: 0 1px 2px rgba(60, 64, 67, 0.3), 0 1px 3px 1px rgba(60, 64, 67, 0.15);\n",
              "    fill: var(--button-hover-fill-color);\n",
              "  }\n",
              "\n",
              "  .colab-df-quickchart-complete:disabled,\n",
              "  .colab-df-quickchart-complete:disabled:hover {\n",
              "    background-color: var(--disabled-bg-color);\n",
              "    fill: var(--disabled-fill-color);\n",
              "    box-shadow: none;\n",
              "  }\n",
              "\n",
              "  .colab-df-spinner {\n",
              "    border: 2px solid var(--fill-color);\n",
              "    border-color: transparent;\n",
              "    border-bottom-color: var(--fill-color);\n",
              "    animation:\n",
              "      spin 1s steps(1) infinite;\n",
              "  }\n",
              "\n",
              "  @keyframes spin {\n",
              "    0% {\n",
              "      border-color: transparent;\n",
              "      border-bottom-color: var(--fill-color);\n",
              "      border-left-color: var(--fill-color);\n",
              "    }\n",
              "    20% {\n",
              "      border-color: transparent;\n",
              "      border-left-color: var(--fill-color);\n",
              "      border-top-color: var(--fill-color);\n",
              "    }\n",
              "    30% {\n",
              "      border-color: transparent;\n",
              "      border-left-color: var(--fill-color);\n",
              "      border-top-color: var(--fill-color);\n",
              "      border-right-color: var(--fill-color);\n",
              "    }\n",
              "    40% {\n",
              "      border-color: transparent;\n",
              "      border-right-color: var(--fill-color);\n",
              "      border-top-color: var(--fill-color);\n",
              "    }\n",
              "    60% {\n",
              "      border-color: transparent;\n",
              "      border-right-color: var(--fill-color);\n",
              "    }\n",
              "    80% {\n",
              "      border-color: transparent;\n",
              "      border-right-color: var(--fill-color);\n",
              "      border-bottom-color: var(--fill-color);\n",
              "    }\n",
              "    90% {\n",
              "      border-color: transparent;\n",
              "      border-bottom-color: var(--fill-color);\n",
              "    }\n",
              "  }\n",
              "</style>\n",
              "\n",
              "  <script>\n",
              "    async function quickchart(key) {\n",
              "      const quickchartButtonEl =\n",
              "        document.querySelector('#' + key + ' button');\n",
              "      quickchartButtonEl.disabled = true;  // To prevent multiple clicks.\n",
              "      quickchartButtonEl.classList.add('colab-df-spinner');\n",
              "      try {\n",
              "        const charts = await google.colab.kernel.invokeFunction(\n",
              "            'suggestCharts', [key], {});\n",
              "      } catch (error) {\n",
              "        console.error('Error during call to suggestCharts:', error);\n",
              "      }\n",
              "      quickchartButtonEl.classList.remove('colab-df-spinner');\n",
              "      quickchartButtonEl.classList.add('colab-df-quickchart-complete');\n",
              "    }\n",
              "    (() => {\n",
              "      let quickchartButtonEl =\n",
              "        document.querySelector('#df-4c0f0f11-3dec-4dd6-bc9d-f7862107c81a button');\n",
              "      quickchartButtonEl.style.display =\n",
              "        google.colab.kernel.accessAllowed ? 'block' : 'none';\n",
              "    })();\n",
              "  </script>\n",
              "</div>\n",
              "\n",
              "    </div>\n",
              "  </div>\n"
            ],
            "application/vnd.google.colaboratory.intrinsic+json": {
              "type": "dataframe",
              "summary": "{\n  \"name\": \")\",\n  \"rows\": 16630,\n  \"fields\": [\n    {\n      \"column\": \"age\",\n      \"properties\": {\n        \"dtype\": \"number\",\n        \"std\": 24.90023964703403,\n        \"min\": 0.08,\n        \"max\": 80.0,\n        \"num_unique_values\": 102,\n        \"samples\": [\n          0.16,\n          76.0,\n          14.0\n        ],\n        \"semantic_type\": \"\",\n        \"description\": \"\"\n      }\n    },\n    {\n      \"column\": \"bmi\",\n      \"properties\": {\n        \"dtype\": \"number\",\n        \"std\": 12.477915346849667,\n        \"min\": 10.01,\n        \"max\": 95.69,\n        \"num_unique_values\": 3335,\n        \"samples\": [\n          45.21,\n          56.49,\n          56.33\n        ],\n        \"semantic_type\": \"\",\n        \"description\": \"\"\n      }\n    },\n    {\n      \"column\": \"HbA1c_level\",\n      \"properties\": {\n        \"dtype\": \"number\",\n        \"std\": 1.3342220910721945,\n        \"min\": 3.5,\n        \"max\": 9.0,\n        \"num_unique_values\": 18,\n        \"samples\": [\n          6.0,\n          5.0,\n          6.6\n        ],\n        \"semantic_type\": \"\",\n        \"description\": \"\"\n      }\n    },\n    {\n      \"column\": \"blood_glucose_level\",\n      \"properties\": {\n        \"dtype\": \"int32\",\n        \"num_unique_values\": 18,\n        \"samples\": [\n          100,\n          130,\n          159\n        ],\n        \"semantic_type\": \"\",\n        \"description\": \"\"\n      }\n    },\n    {\n      \"column\": \"age_out\",\n      \"properties\": {\n        \"dtype\": \"int32\",\n        \"num_unique_values\": 1,\n        \"samples\": [\n          0\n        ],\n        \"semantic_type\": \"\",\n        \"description\": \"\"\n      }\n    },\n    {\n      \"column\": \"bmi_out\",\n      \"properties\": {\n        \"dtype\": \"int32\",\n        \"num_unique_values\": 2,\n        \"samples\": [\n          0\n        ],\n        \"semantic_type\": \"\",\n        \"description\": \"\"\n      }\n    },\n    {\n      \"column\": \"HbA1c_level_out\",\n      \"properties\": {\n        \"dtype\": \"int32\",\n        \"num_unique_values\": 2,\n        \"samples\": [\n          1\n        ],\n        \"semantic_type\": \"\",\n        \"description\": \"\"\n      }\n    },\n    {\n      \"column\": \"blood_glucose_level_out\",\n      \"properties\": {\n        \"dtype\": \"int32\",\n        \"num_unique_values\": 2,\n        \"samples\": [\n          1\n        ],\n        \"semantic_type\": \"\",\n        \"description\": \"\"\n      }\n    }\n  ]\n}"
            }
          },
          "metadata": {},
          "execution_count": 18
        }
      ]
    },
    {
      "cell_type": "code",
      "source": [
        "spark_df.describe(\"blood_glucose_level\").show()"
      ],
      "metadata": {
        "colab": {
          "base_uri": "https://localhost:8080/"
        },
        "id": "Pv4uj4QlIUx8",
        "outputId": "945a701c-26e6-411c-e231-c4af337daa1c"
      },
      "execution_count": null,
      "outputs": [
        {
          "output_type": "stream",
          "name": "stdout",
          "text": [
            "+-------+-------------------+\n",
            "|summary|blood_glucose_level|\n",
            "+-------+-------------------+\n",
            "|  count|             100000|\n",
            "|   mean|          138.05806|\n",
            "| stddev|  40.70813604870383|\n",
            "|    min|                 80|\n",
            "|    max|                300|\n",
            "+-------+-------------------+\n",
            "\n"
          ]
        }
      ]
    },
    {
      "cell_type": "code",
      "source": [
        "spark_df.describe(\"age\").show()"
      ],
      "metadata": {
        "colab": {
          "base_uri": "https://localhost:8080/"
        },
        "id": "bo3DPPvjK5Vo",
        "outputId": "ef4fea5f-fc29-409e-a071-840ff419ecf1"
      },
      "execution_count": null,
      "outputs": [
        {
          "output_type": "stream",
          "name": "stdout",
          "text": [
            "+-------+-----------------+\n",
            "|summary|              age|\n",
            "+-------+-----------------+\n",
            "|  count|           100000|\n",
            "|   mean|41.88585600000013|\n",
            "| stddev|22.51683987161704|\n",
            "|    min|             0.08|\n",
            "|    max|             80.0|\n",
            "+-------+-----------------+\n",
            "\n"
          ]
        }
      ]
    },
    {
      "cell_type": "code",
      "source": [
        "spark_df.describe(\"bmi\").show()"
      ],
      "metadata": {
        "colab": {
          "base_uri": "https://localhost:8080/"
        },
        "id": "s0tvC6b2LCmw",
        "outputId": "de759632-e259-4f22-d8fc-d5356d240c80"
      },
      "execution_count": null,
      "outputs": [
        {
          "output_type": "stream",
          "name": "stdout",
          "text": [
            "+-------+-----------------+\n",
            "|summary|              bmi|\n",
            "+-------+-----------------+\n",
            "|  count|           100000|\n",
            "|   mean|27.32076709999422|\n",
            "| stddev|6.636783416648357|\n",
            "|    min|            10.01|\n",
            "|    max|            95.69|\n",
            "+-------+-----------------+\n",
            "\n"
          ]
        }
      ]
    },
    {
      "cell_type": "code",
      "source": [
        "spark_df.describe(\"HbA1c_level\").show()"
      ],
      "metadata": {
        "colab": {
          "base_uri": "https://localhost:8080/"
        },
        "id": "Wq5PkyiZLaRB",
        "outputId": "d6a821f1-e9bf-4e4b-8a73-da00b7eeab4f"
      },
      "execution_count": null,
      "outputs": [
        {
          "output_type": "stream",
          "name": "stdout",
          "text": [
            "+-------+------------------+\n",
            "|summary|       HbA1c_level|\n",
            "+-------+------------------+\n",
            "|  count|            100000|\n",
            "|   mean|5.5275069999983275|\n",
            "| stddev|1.0706720918835468|\n",
            "|    min|               3.5|\n",
            "|    max|               9.0|\n",
            "+-------+------------------+\n",
            "\n"
          ]
        }
      ]
    },
    {
      "cell_type": "markdown",
      "source": [
        "# **Outlier Visualization**"
      ],
      "metadata": {
        "id": "C21yr2j8Zef3"
      }
    },
    {
      "cell_type": "code",
      "source": [
        "df=spark_df.toPandas()"
      ],
      "metadata": {
        "id": "wEtQV3UgM6_1"
      },
      "execution_count": null,
      "outputs": []
    },
    {
      "cell_type": "code",
      "source": [
        "plt.subplot(2,2,1)\n",
        "sns.boxplot(df[\"age\"])\n",
        "plt.title(\"Age Box Plot\")\n",
        "\n",
        "\n",
        "plt.subplot(2,2,3)\n",
        "sns.boxplot(df[\"bmi\"])\n",
        "plt.title(\"Bmi Boxplot\")\n",
        "\n",
        "\n",
        "plt.subplot(2,2,2)\n",
        "sns.boxplot(df[\"blood_glucose_level\"])\n",
        "plt.title(\"Blood_Glucose_Level Boxplot\")\n",
        "\n",
        "\n",
        "plt.subplot(2,2,4)\n",
        "sns.boxplot(df[\"HbA1c_level\"])\n",
        "plt.title(\"HbA1c_level Boxplot\")"
      ],
      "metadata": {
        "colab": {
          "base_uri": "https://localhost:8080/",
          "height": 451
        },
        "id": "fa1snv5JM8hV",
        "outputId": "9ce48782-0019-4fe8-dce9-ac756217ee09"
      },
      "execution_count": null,
      "outputs": [
        {
          "output_type": "execute_result",
          "data": {
            "text/plain": [
              "Text(0.5, 1.0, 'HbA1c_level Boxplot')"
            ]
          },
          "metadata": {},
          "execution_count": 23
        },
        {
          "output_type": "display_data",
          "data": {
            "text/plain": [
              "<Figure size 640x480 with 4 Axes>"
            ],
            "image/png": "[encoded data removed]"
          },
          "metadata": {}
        }
      ]
    },
    {
      "cell_type": "markdown",
      "source": [
        "As it can be seen age doesn't have any outliers.Meanwhile, Bmi has the most one."
      ],
      "metadata": {
        "id": "VnUEN2aqZi8p"
      }
    },
    {
      "cell_type": "markdown",
      "source": [
        "# **Age Feature Visualization**"
      ],
      "metadata": {
        "id": "PnurPplTZzsl"
      }
    },
    {
      "cell_type": "code",
      "source": [
        "sns.histplot(df[\"age\"],kde=True)\n",
        "plt.axvline(np.mean(df[\"age\"]),ls=\"--\",c=\"g\",label=\"Mean\")\n",
        "plt.axvline(np.median(df[\"age\"]),ls=\":\",c=\"r\",label=\"Median\")\n",
        "plt.title(\"Age Histogram Distribution\");\n",
        "plt.legend()"
      ],
      "metadata": {
        "colab": {
          "base_uri": "https://localhost:8080/",
          "height": 490
        },
        "id": "wIRTMrvSNgHG",
        "outputId": "c58756e4-6040-44b4-f193-6504368ac58c"
      },
      "execution_count": null,
      "outputs": [
        {
          "output_type": "execute_result",
          "data": {
            "text/plain": [
              "<matplotlib.legend.Legend at 0x79f1e0ffde70>"
            ]
          },
          "metadata": {},
          "execution_count": 24
        },
        {
          "output_type": "display_data",
          "data": {
            "text/plain": [
              "<Figure size 640x480 with 1 Axes>"
            ],
            "image/png": "[encoded data removed]"
          },
          "metadata": {}
        }
      ]
    },
    {
      "cell_type": "markdown",
      "source": [
        "Age feature has a balanced distribution which is close to normal distribution since mean and median values are close to each other."
      ],
      "metadata": {
        "id": "sSy4WHa5aQPz"
      }
    },
    {
      "cell_type": "markdown",
      "source": [
        "Since old ages may increase some health problems, it is better to examine age feature by seperating some intervals such as kids,young adults,middle age adults and senior adults"
      ],
      "metadata": {
        "id": "zVMmHfyKb2r4"
      }
    },
    {
      "cell_type": "code",
      "source": [
        "df[\"age_cut\"]=pd.cut(x=df[\"age\"],bins=[df[\"age\"].min(),18,30,60,df[\"age\"].max()],labels=[\"kids\",\"young_adults\",\"middle_age_adults\",\"senior_adults\"])"
      ],
      "metadata": {
        "id": "UBWWmmlAOhw4"
      },
      "execution_count": null,
      "outputs": []
    },
    {
      "cell_type": "code",
      "source": [
        "df.groupby(df[\"age_cut\"])[\"diabetes\"].value_counts().plot(kind='bar')\n",
        "plt.xlabel('Participants')\n",
        "plt.ylabel('Diabetes')\n",
        "plt.title('Yes or No ')\n",
        "plt.show()"
      ],
      "metadata": {
        "colab": {
          "base_uri": "https://localhost:8080/",
          "height": 616
        },
        "id": "DenZ879wPDR-",
        "outputId": "042bf4c4-4bcc-459a-ea0f-fc9471fcc98b"
      },
      "execution_count": null,
      "outputs": [
        {
          "output_type": "display_data",
          "data": {
            "text/plain": [
              "<Figure size 640x480 with 1 Axes>"
            ],
            "image/png": "[encoded data removed]"
          },
          "metadata": {}
        }
      ]
    },
    {
      "cell_type": "markdown",
      "source": [
        "As it was guessed,age is a huge factor. Especially for kids and young adults, diabetes risk is significantly low but for seniors,the risk can not be ignored."
      ],
      "metadata": {
        "id": "fSRqwZ0-cnp8"
      }
    },
    {
      "cell_type": "code",
      "source": [
        "Diabetes_Senior= ((df['age_cut'] == 'senior_adults') & (df['diabetes'] == 1)).value_counts().get(True, 0)\n",
        "No_Diabetes_Senior = ((df['age_cut'] == 'senior_adults') & (df['diabetes'] == 0)).value_counts().get(True, 0)\n",
        "\n",
        "numbers = [Diabetes_Senior,No_Diabetes_Senior ]\n",
        "labels = ['Diabetes_Senior', 'No_Diabetes_Senior']\n",
        "plt.pie(numbers, labels=labels)\n",
        "plt.title(\"Pie Chart of Senior Adults and Diabetes\")\n",
        "\n",
        "plt.show()"
      ],
      "metadata": {
        "colab": {
          "base_uri": "https://localhost:8080/",
          "height": 428
        },
        "id": "tnbdVSCaPz_z",
        "outputId": "73690aab-b5ce-4991-8c89-6cd6334c91fd"
      },
      "execution_count": null,
      "outputs": [
        {
          "output_type": "display_data",
          "data": {
            "text/plain": [
              "<Figure size 640x480 with 1 Axes>"
            ],
            "image/png": "[encoded data removed]"
          },
          "metadata": {}
        }
      ]
    },
    {
      "cell_type": "markdown",
      "source": [
        "Pie chart indicates that approximately %20 of senior in our dataset has diabetes."
      ],
      "metadata": {
        "id": "vBA8fZaZgCbK"
      }
    },
    {
      "cell_type": "code",
      "source": [
        "Diabetes_Senior= ((df['age_cut'] == 'senior_adults') & (df['diabetes'] == 1)).value_counts().get(True, 0)\n",
        "Diabetes_Others = ((df['age_cut'] != 'senior_adults') & (df['diabetes'] == 1)).value_counts().get(True, 0)\n",
        "\n",
        "numbers = [Diabetes_Senior,Diabetes_Others]\n",
        "labels = ['Diabetes_Senior', 'Diabetes_Others']\n",
        "plt.pie(numbers, labels=labels)\n",
        "plt.title(\"Pie Chart of Diabetes Distribution\")\n",
        "\n",
        "plt.show()"
      ],
      "metadata": {
        "colab": {
          "base_uri": "https://localhost:8080/",
          "height": 428
        },
        "id": "npBZOG_8omY_",
        "outputId": "3059d22f-d0d5-4436-b2f2-ce3884e89fc6"
      },
      "execution_count": null,
      "outputs": [
        {
          "output_type": "display_data",
          "data": {
            "text/plain": [
              "<Figure size 640x480 with 1 Axes>"
            ],
            "image/png": "[encoded data removed]"
          },
          "metadata": {}
        }
      ]
    },
    {
      "cell_type": "code",
      "source": [
        "df[df[\"age\"].between(50,60)][\"diabetes\"].value_counts()"
      ],
      "metadata": {
        "colab": {
          "base_uri": "https://localhost:8080/"
        },
        "id": "89_TaSP4kDmC",
        "outputId": "baef0504-ea1e-4bf9-e0e6-aa963ac9ba59"
      },
      "execution_count": null,
      "outputs": [
        {
          "output_type": "execute_result",
          "data": {
            "text/plain": [
              "diabetes\n",
              "0    14214\n",
              "1     2072\n",
              "Name: count, dtype: int64"
            ]
          },
          "metadata": {},
          "execution_count": 28
        }
      ]
    },
    {
      "cell_type": "code",
      "source": [
        "df[df[\"age\"].between(50,60)][\"diabetes\"].value_counts().plot(kind=\"bar\")\n",
        "plt.xlabel('People')\n",
        "plt.ylabel('Diabetes')\n",
        "plt.title('Yes or No ')\n",
        "plt.show()"
      ],
      "metadata": {
        "colab": {
          "base_uri": "https://localhost:8080/",
          "height": 467
        },
        "id": "2cltfbP2gXdG",
        "outputId": "be904f56-a322-4482-866e-e802ae56f8d0"
      },
      "execution_count": null,
      "outputs": [
        {
          "output_type": "display_data",
          "data": {
            "text/plain": [
              "<Figure size 640x480 with 1 Axes>"
            ],
            "image/png": "[encoded data removed]"
          },
          "metadata": {}
        }
      ]
    },
    {
      "cell_type": "code",
      "source": [
        "df.groupby(\"age_cut\")[\"diabetes\"].value_counts()"
      ],
      "metadata": {
        "colab": {
          "base_uri": "https://localhost:8080/"
        },
        "id": "XD3bLYdRTEKP",
        "outputId": "74927175-e520-4022-de7c-3f6786ee1fb2"
      },
      "execution_count": null,
      "outputs": [
        {
          "output_type": "execute_result",
          "data": {
            "text/plain": [
              "age_cut            diabetes\n",
              "kids               0           18272\n",
              "                   1              92\n",
              "young_adults       0           15124\n",
              "                   1             209\n",
              "middle_age_adults  0           39155\n",
              "                   1            3480\n",
              "senior_adults      0           18913\n",
              "                   1            4719\n",
              "Name: count, dtype: int64"
            ]
          },
          "metadata": {},
          "execution_count": 30
        }
      ]
    },
    {
      "cell_type": "code",
      "source": [
        "df[\"diabetes\"].value_counts().plot(kind=\"bar\")"
      ],
      "metadata": {
        "colab": {
          "base_uri": "https://localhost:8080/",
          "height": 462
        },
        "id": "R8PcF1wMlT-z",
        "outputId": "c6cea23d-e653-42b6-d620-546796c134ec"
      },
      "execution_count": null,
      "outputs": [
        {
          "output_type": "execute_result",
          "data": {
            "text/plain": [
              "<Axes: xlabel='diabetes'>"
            ]
          },
          "metadata": {},
          "execution_count": 31
        },
        {
          "output_type": "display_data",
          "data": {
            "text/plain": [
              "<Figure size 640x480 with 1 Axes>"
            ],
            "image/png": "[encoded data removed]"
          },
          "metadata": {}
        }
      ]
    },
    {
      "cell_type": "code",
      "source": [
        "df[\"diabetes\"].value_counts()"
      ],
      "metadata": {
        "colab": {
          "base_uri": "https://localhost:8080/"
        },
        "id": "GZKUcMKqleLD",
        "outputId": "e11ffabd-f91b-4c49-f390-145867819004"
      },
      "execution_count": null,
      "outputs": [
        {
          "output_type": "execute_result",
          "data": {
            "text/plain": [
              "diabetes\n",
              "0    91500\n",
              "1     8500\n",
              "Name: count, dtype: int64"
            ]
          },
          "metadata": {},
          "execution_count": 32
        }
      ]
    },
    {
      "cell_type": "markdown",
      "source": [
        "From the barplot and number comparison in different age intervals, it is clear that 50+ years old people have significantly higher risk and those people are responsible for %80 of cases."
      ],
      "metadata": {
        "id": "sE3DY_njbXhy"
      }
    },
    {
      "cell_type": "code",
      "source": [
        "df[df[\"bmi\"]>25][\"diabetes\"].value_counts()"
      ],
      "metadata": {
        "colab": {
          "base_uri": "https://localhost:8080/"
        },
        "id": "stjfJHWxZDGl",
        "outputId": "abc9303e-41a3-4c33-e1aa-4147d138c234"
      },
      "execution_count": null,
      "outputs": [
        {
          "output_type": "execute_result",
          "data": {
            "text/plain": [
              "diabetes\n",
              "0    61619\n",
              "1     7569\n",
              "Name: count, dtype: int64"
            ]
          },
          "metadata": {},
          "execution_count": 35
        }
      ]
    },
    {
      "cell_type": "code",
      "source": [
        "df[df[\"bmi\"]<25][\"diabetes\"].value_counts()"
      ],
      "metadata": {
        "colab": {
          "base_uri": "https://localhost:8080/"
        },
        "id": "4us104abZW0i",
        "outputId": "67584508-ed7e-48c9-e196-20602aa2085b"
      },
      "execution_count": null,
      "outputs": [
        {
          "output_type": "execute_result",
          "data": {
            "text/plain": [
              "diabetes\n",
              "0    29786\n",
              "1      927\n",
              "Name: count, dtype: int64"
            ]
          },
          "metadata": {},
          "execution_count": 36
        }
      ]
    },
    {
      "cell_type": "code",
      "source": [
        "df[\"bmi_cut\"]=pd.cut(x=df[\"bmi\"],bins=[df[\"bmi\"].min()-1,18.5,25,30,df[\"bmi\"].max()],labels=[\"under_weight\",\"normal_weight\",\"overweight\",\"obese\"])"
      ],
      "metadata": {
        "id": "Pjcs7mLcZ0qU"
      },
      "execution_count": null,
      "outputs": []
    },
    {
      "cell_type": "code",
      "source": [
        "df.groupby(df[\"bmi_cut\"])[\"diabetes\"].value_counts().plot(kind='bar')\n",
        "plt.xlabel('Participants')\n",
        "plt.ylabel('Diabetes')\n",
        "plt.title('Yes or No ')\n",
        "plt.show()"
      ],
      "metadata": {
        "colab": {
          "base_uri": "https://localhost:8080/",
          "height": 589
        },
        "id": "ds7FwH9IaXAv",
        "outputId": "e85aab21-4090-4ff9-e5ce-396a3b19a512"
      },
      "execution_count": null,
      "outputs": [
        {
          "output_type": "display_data",
          "data": {
            "text/plain": [
              "<Figure size 640x480 with 1 Axes>"
            ],
            "image/png": "[encoded data removed]"
          },
          "metadata": {}
        }
      ]
    },
    {
      "cell_type": "code",
      "source": [
        "for i in df[\"bmi_cut\"].unique():\n",
        "\n",
        "  print(i,df[df[\"bmi_cut\"]==i][\"diabetes\"].value_counts()[1]/(df[df[\"bmi_cut\"]==i][\"diabetes\"].value_counts()[0]+df[df[\"bmi_cut\"]==i][\"diabetes\"].value_counts()[1]))"
      ],
      "metadata": {
        "colab": {
          "base_uri": "https://localhost:8080/"
        },
        "id": "5bnz54hocrl-",
        "outputId": "5db36fdb-f368-4459-e14f-ab0d5686d78c"
      },
      "execution_count": null,
      "outputs": [
        {
          "output_type": "stream",
          "name": "stdout",
          "text": [
            "overweight 0.07301170550268023\n",
            "normal_weight 0.03889462114754834\n",
            "obese 0.1802154750244858\n",
            "under_weight 0.0075108555333881\n"
          ]
        }
      ]
    },
    {
      "cell_type": "code",
      "source": [
        "Diabetes_Obese= ((df['bmi_cut'] == 'obese') & (df['diabetes'] == 1)).value_counts().get(True, 0)\n",
        "No_Diabetes_Obese = ((df['bmi_cut'] == 'obese') & (df['diabetes'] == 0)).value_counts().get(True, 0)\n",
        "\n",
        "numbers = [Diabetes_Obese,No_Diabetes_Obese ]\n",
        "labels = ['Diabetes_Obese', 'No_Diabetes_Obese']\n",
        "plt.pie(numbers, labels=labels)\n",
        "plt.title(\"Pie Chart of Obese and Diabetes\")\n",
        "\n",
        "plt.show()"
      ],
      "metadata": {
        "colab": {
          "base_uri": "https://localhost:8080/",
          "height": 428
        },
        "id": "nyxvXGcWfJ88",
        "outputId": "926ee83e-ecd6-4bfb-caed-f3bb58a5ac69"
      },
      "execution_count": null,
      "outputs": [
        {
          "output_type": "display_data",
          "data": {
            "text/plain": [
              "<Figure size 640x480 with 1 Axes>"
            ],
            "image/png": "[encoded data removed]"
          },
          "metadata": {}
        }
      ]
    },
    {
      "cell_type": "code",
      "source": [
        "Diabetes_Obese= ((df['bmi_cut'] == 'obese') & (df['diabetes'] == 1)).value_counts().get(True, 0)\n",
        "Diabetes_Others = ((df['bmi_cut'] != 'obese') & (df['diabetes'] == 1)).value_counts().get(True, 0)\n",
        "\n",
        "numbers = [Diabetes_Obese,Diabetes_Others ]\n",
        "labels = ['Diabetes_Obese', 'Diabetes_Others']\n",
        "plt.pie(numbers, labels=labels)\n",
        "plt.title(\"Pie Chart of Diabetes Percentage\")\n",
        "\n",
        "plt.show()"
      ],
      "metadata": {
        "colab": {
          "base_uri": "https://localhost:8080/",
          "height": 428
        },
        "id": "DjuaCMSTnZrb",
        "outputId": "0461edc4-8c3f-4202-e432-45b3f07ae591"
      },
      "execution_count": null,
      "outputs": [
        {
          "output_type": "display_data",
          "data": {
            "text/plain": [
              "<Figure size 640x480 with 1 Axes>"
            ],
            "image/png": "[encoded data removed]"
          },
          "metadata": {}
        }
      ]
    },
    {
      "cell_type": "markdown",
      "source": [
        "# **New Feature Creation**"
      ],
      "metadata": {
        "id": "--YoUeSto4zT"
      }
    },
    {
      "cell_type": "code",
      "source": [
        "spark_df_new= spark_df.withColumn(\"High_Risk_Age\", when(spark_df.age>50, 1).otherwise(0))\n"
      ],
      "metadata": {
        "id": "YbKYviFZcZ3H"
      },
      "execution_count": null,
      "outputs": []
    },
    {
      "cell_type": "markdown",
      "source": [
        "Since age feature has ordinal relationship,it is better to convert it into categorical binary feature"
      ],
      "metadata": {
        "id": "7zCuqP6so9IF"
      }
    },
    {
      "cell_type": "code",
      "source": [
        "spark_df_new.show()"
      ],
      "metadata": {
        "colab": {
          "base_uri": "https://localhost:8080/"
        },
        "id": "gfmojZ0CejZU",
        "outputId": "a4418169-2d70-4711-c822-51181dd67809"
      },
      "execution_count": null,
      "outputs": [
        {
          "output_type": "stream",
          "name": "stdout",
          "text": [
            "+------+----+------------+-------------+---------------+-----+-----------+-------------------+--------+-------------+\n",
            "|gender| age|hypertension|heart_disease|smoking_history|  bmi|HbA1c_level|blood_glucose_level|diabetes|High_Risk_Age|\n",
            "+------+----+------------+-------------+---------------+-----+-----------+-------------------+--------+-------------+\n",
            "|Female|80.0|           0|            1|          never|25.19|        6.6|                140|       0|            1|\n",
            "|Female|54.0|           0|            0|        No Info|27.32|        6.6|                 80|       0|            1|\n",
            "|  Male|28.0|           0|            0|          never|27.32|        5.7|                158|       0|            0|\n",
            "|Female|36.0|           0|            0|        current|23.45|        5.0|                155|       0|            0|\n",
            "|  Male|76.0|           1|            1|        current|20.14|        4.8|                155|       0|            1|\n",
            "|Female|20.0|           0|            0|          never|27.32|        6.6|                 85|       0|            0|\n",
            "|Female|44.0|           0|            0|          never|19.31|        6.5|                200|       1|            0|\n",
            "|Female|79.0|           0|            0|        No Info|23.86|        5.7|                 85|       0|            1|\n",
            "|  Male|42.0|           0|            0|          never|33.64|        4.8|                145|       0|            0|\n",
            "|Female|32.0|           0|            0|          never|27.32|        5.0|                100|       0|            0|\n",
            "|Female|53.0|           0|            0|          never|27.32|        6.1|                 85|       0|            1|\n",
            "|Female|54.0|           0|            0|         former| 54.7|        6.0|                100|       0|            1|\n",
            "|Female|78.0|           0|            0|         former|36.05|        5.0|                130|       0|            1|\n",
            "|Female|67.0|           0|            0|          never|25.69|        5.8|                200|       0|            1|\n",
            "|Female|76.0|           0|            0|        No Info|27.32|        5.0|                160|       0|            1|\n",
            "|  Male|78.0|           0|            0|        No Info|27.32|        6.6|                126|       0|            1|\n",
            "|  Male|15.0|           0|            0|          never|30.36|        6.1|                200|       0|            0|\n",
            "|Female|42.0|           0|            0|          never|24.48|        5.7|                158|       0|            0|\n",
            "|Female|42.0|           0|            0|        No Info|27.32|        5.7|                 80|       0|            0|\n",
            "|  Male|37.0|           0|            0|           ever|25.72|        3.5|                159|       0|            0|\n",
            "+------+----+------------+-------------+---------------+-----+-----------+-------------------+--------+-------------+\n",
            "only showing top 20 rows\n",
            "\n"
          ]
        }
      ]
    },
    {
      "cell_type": "code",
      "source": [
        "spark_df_new=spark_df_new.drop(\"age\")"
      ],
      "metadata": {
        "id": "et8ijG6Jeyev"
      },
      "execution_count": null,
      "outputs": []
    },
    {
      "cell_type": "code",
      "source": [
        "spark_df_new= spark_df_new.withColumn(\"High_Risk_Bmi\", when(spark_df.bmi>29.99, 1).otherwise(0))"
      ],
      "metadata": {
        "id": "3XAcHt9s_Qh8"
      },
      "execution_count": null,
      "outputs": []
    },
    {
      "cell_type": "markdown",
      "source": [
        "From earlier analysises, it was found that people who has over 30 bmi are account for %50 diabetes cases. Making this feature as binary is also better."
      ],
      "metadata": {
        "id": "3LHRuWWrCdbZ"
      }
    },
    {
      "cell_type": "code",
      "source": [
        "spark_df_new.show()"
      ],
      "metadata": {
        "colab": {
          "base_uri": "https://localhost:8080/"
        },
        "id": "6BFEqtbxfj7D",
        "outputId": "69ebbfdb-0ff1-4aa0-c268-e66d35b508c0"
      },
      "execution_count": null,
      "outputs": [
        {
          "output_type": "stream",
          "name": "stdout",
          "text": [
            "+------+------------+-------------+---------------+-----+-----------+-------------------+--------+-------------+-------------+\n",
            "|gender|hypertension|heart_disease|smoking_history|  bmi|HbA1c_level|blood_glucose_level|diabetes|High_Risk_Age|High_Risk_Bmi|\n",
            "+------+------------+-------------+---------------+-----+-----------+-------------------+--------+-------------+-------------+\n",
            "|Female|           0|            1|          never|25.19|        6.6|                140|       0|            1|            0|\n",
            "|Female|           0|            0|        No Info|27.32|        6.6|                 80|       0|            1|            0|\n",
            "|  Male|           0|            0|          never|27.32|        5.7|                158|       0|            0|            0|\n",
            "|Female|           0|            0|        current|23.45|        5.0|                155|       0|            0|            0|\n",
            "|  Male|           1|            1|        current|20.14|        4.8|                155|       0|            1|            0|\n",
            "|Female|           0|            0|          never|27.32|        6.6|                 85|       0|            0|            0|\n",
            "|Female|           0|            0|          never|19.31|        6.5|                200|       1|            0|            0|\n",
            "|Female|           0|            0|        No Info|23.86|        5.7|                 85|       0|            1|            0|\n",
            "|  Male|           0|            0|          never|33.64|        4.8|                145|       0|            0|            1|\n",
            "|Female|           0|            0|          never|27.32|        5.0|                100|       0|            0|            0|\n",
            "|Female|           0|            0|          never|27.32|        6.1|                 85|       0|            1|            0|\n",
            "|Female|           0|            0|         former| 54.7|        6.0|                100|       0|            1|            1|\n",
            "|Female|           0|            0|         former|36.05|        5.0|                130|       0|            1|            1|\n",
            "|Female|           0|            0|          never|25.69|        5.8|                200|       0|            1|            0|\n",
            "|Female|           0|            0|        No Info|27.32|        5.0|                160|       0|            1|            0|\n",
            "|  Male|           0|            0|        No Info|27.32|        6.6|                126|       0|            1|            0|\n",
            "|  Male|           0|            0|          never|30.36|        6.1|                200|       0|            0|            1|\n",
            "|Female|           0|            0|          never|24.48|        5.7|                158|       0|            0|            0|\n",
            "|Female|           0|            0|        No Info|27.32|        5.7|                 80|       0|            0|            0|\n",
            "|  Male|           0|            0|           ever|25.72|        3.5|                159|       0|            0|            0|\n",
            "+------+------------+-------------+---------------+-----+-----------+-------------------+--------+-------------+-------------+\n",
            "only showing top 20 rows\n",
            "\n"
          ]
        }
      ]
    },
    {
      "cell_type": "code",
      "source": [
        "spark_df_new=spark_df_new.drop(\"bmi\")"
      ],
      "metadata": {
        "id": "jZMP7ZUj_pnD"
      },
      "execution_count": null,
      "outputs": []
    },
    {
      "cell_type": "markdown",
      "source": [
        "# **Missing Value Control**"
      ],
      "metadata": {
        "id": "Jdf7mvrkpMvo"
      }
    },
    {
      "cell_type": "code",
      "source": [
        "for colu in spark_df_new.columns:\n",
        "  print(colu,\":\",spark_df_new.filter(spark_df_new[colu].isNull()).count())\n"
      ],
      "metadata": {
        "colab": {
          "base_uri": "https://localhost:8080/"
        },
        "id": "xMg-UFByrJgj",
        "outputId": "2c83066f-027b-4bcc-d747-399efbb0d539"
      },
      "execution_count": null,
      "outputs": [
        {
          "output_type": "stream",
          "name": "stdout",
          "text": [
            "gender : 0\n",
            "hypertension : 0\n",
            "heart_disease : 0\n",
            "smoking_history : 0\n",
            "HbA1c_level : 0\n",
            "blood_glucose_level : 0\n",
            "diabetes : 0\n",
            "High_Risk_Age : 0\n",
            "High_Risk_Bmi : 0\n"
          ]
        }
      ]
    },
    {
      "cell_type": "markdown",
      "source": [
        "# **Outlier Handling**"
      ],
      "metadata": {
        "id": "ATqGOMikpR1I"
      }
    },
    {
      "cell_type": "code",
      "source": [
        "numericals.remove(\"age\")"
      ],
      "metadata": {
        "id": "4-7dllhu8vFv"
      },
      "execution_count": null,
      "outputs": []
    },
    {
      "cell_type": "code",
      "source": [
        "numericals.remove(\"bmi\")"
      ],
      "metadata": {
        "id": "8eHtCrUg_1-z"
      },
      "execution_count": null,
      "outputs": []
    },
    {
      "cell_type": "code",
      "source": [
        "spark_df_new=spark_df_new.select(\n",
        "    *[col(c) for c in spark_df_new.columns],\n",
        "    *[\n",
        "        F.when(\n",
        "           col(c)<bounds[c][0],\n",
        "           bounds[c][0]\n",
        "        ).when(col(c)>bounds[c][1],\n",
        "           bounds[c][1]). otherwise(col(c)).alias(c+\"_new\")\n",
        "        for c in numericals])"
      ],
      "metadata": {
        "id": "rnTXjdwyNQUE"
      },
      "execution_count": null,
      "outputs": []
    },
    {
      "cell_type": "code",
      "source": [
        "spark_df_new.show()"
      ],
      "metadata": {
        "colab": {
          "base_uri": "https://localhost:8080/"
        },
        "id": "G4D4vf5WOX95",
        "outputId": "e0532337-63a8-4add-d3f3-c594c1fb1d77"
      },
      "execution_count": null,
      "outputs": [
        {
          "output_type": "stream",
          "name": "stdout",
          "text": [
            "+------+------------+-------------+---------------+-----------+-------------------+--------+-------------+-------------+---------------+-----------------------+\n",
            "|gender|hypertension|heart_disease|smoking_history|HbA1c_level|blood_glucose_level|diabetes|High_Risk_Age|High_Risk_Bmi|HbA1c_level_new|blood_glucose_level_new|\n",
            "+------+------------+-------------+---------------+-----------+-------------------+--------+-------------+-------------+---------------+-----------------------+\n",
            "|Female|           0|            1|          never|        6.6|                140|       0|            1|            0|            6.6|                  140.0|\n",
            "|Female|           0|            0|        No Info|        6.6|                 80|       0|            1|            0|            6.6|                   80.0|\n",
            "|  Male|           0|            0|          never|        5.7|                158|       0|            0|            0|            5.7|                  158.0|\n",
            "|Female|           0|            0|        current|        5.0|                155|       0|            0|            0|            5.0|                  155.0|\n",
            "|  Male|           1|            1|        current|        4.8|                155|       0|            1|            0|            4.8|                  155.0|\n",
            "|Female|           0|            0|          never|        6.6|                 85|       0|            0|            0|            6.6|                   85.0|\n",
            "|Female|           0|            0|          never|        6.5|                200|       1|            0|            0|            6.5|                  200.0|\n",
            "|Female|           0|            0|        No Info|        5.7|                 85|       0|            1|            0|            5.7|                   85.0|\n",
            "|  Male|           0|            0|          never|        4.8|                145|       0|            0|            1|            4.8|                  145.0|\n",
            "|Female|           0|            0|          never|        5.0|                100|       0|            0|            0|            5.0|                  100.0|\n",
            "|Female|           0|            0|          never|        6.1|                 85|       0|            1|            0|            6.1|                   85.0|\n",
            "|Female|           0|            0|         former|        6.0|                100|       0|            1|            1|            6.0|                  100.0|\n",
            "|Female|           0|            0|         former|        5.0|                130|       0|            1|            1|            5.0|                  130.0|\n",
            "|Female|           0|            0|          never|        5.8|                200|       0|            1|            0|            5.8|                  200.0|\n",
            "|Female|           0|            0|        No Info|        5.0|                160|       0|            1|            0|            5.0|                  160.0|\n",
            "|  Male|           0|            0|        No Info|        6.6|                126|       0|            1|            0|            6.6|                  126.0|\n",
            "|  Male|           0|            0|          never|        6.1|                200|       0|            0|            1|            6.1|                  200.0|\n",
            "|Female|           0|            0|          never|        5.7|                158|       0|            0|            0|            5.7|                  158.0|\n",
            "|Female|           0|            0|        No Info|        5.7|                 80|       0|            0|            0|            5.7|                   80.0|\n",
            "|  Male|           0|            0|           ever|        3.5|                159|       0|            0|            0|            3.5|                  159.0|\n",
            "+------+------------+-------------+---------------+-----------+-------------------+--------+-------------+-------------+---------------+-----------------------+\n",
            "only showing top 20 rows\n",
            "\n"
          ]
        }
      ]
    },
    {
      "cell_type": "markdown",
      "source": [
        "Since we created columns that don't have outlier values,we don't need previous ones."
      ],
      "metadata": {
        "id": "Ar9PPAfepXQ0"
      }
    },
    {
      "cell_type": "code",
      "source": [
        "spark_df_new=spark_df_new.drop(\"blood_glucose_level\",\"HbA1c_level\")"
      ],
      "metadata": {
        "id": "_GWlHR3wa5Sx"
      },
      "execution_count": null,
      "outputs": []
    },
    {
      "cell_type": "code",
      "source": [
        "spark_df_new.show()"
      ],
      "metadata": {
        "colab": {
          "base_uri": "https://localhost:8080/"
        },
        "id": "UT6sLj5lbfLT",
        "outputId": "e8a5b11e-be6e-475c-f9c7-72607e0378a0"
      },
      "execution_count": null,
      "outputs": [
        {
          "output_type": "stream",
          "name": "stdout",
          "text": [
            "+------+------------+-------------+---------------+--------+-------------+-------------+---------------+-----------------------+\n",
            "|gender|hypertension|heart_disease|smoking_history|diabetes|High_Risk_Age|High_Risk_Bmi|HbA1c_level_new|blood_glucose_level_new|\n",
            "+------+------------+-------------+---------------+--------+-------------+-------------+---------------+-----------------------+\n",
            "|Female|           0|            1|          never|       0|            1|            0|            6.6|                  140.0|\n",
            "|Female|           0|            0|        No Info|       0|            1|            0|            6.6|                   80.0|\n",
            "|  Male|           0|            0|          never|       0|            0|            0|            5.7|                  158.0|\n",
            "|Female|           0|            0|        current|       0|            0|            0|            5.0|                  155.0|\n",
            "|  Male|           1|            1|        current|       0|            1|            0|            4.8|                  155.0|\n",
            "|Female|           0|            0|          never|       0|            0|            0|            6.6|                   85.0|\n",
            "|Female|           0|            0|          never|       1|            0|            0|            6.5|                  200.0|\n",
            "|Female|           0|            0|        No Info|       0|            1|            0|            5.7|                   85.0|\n",
            "|  Male|           0|            0|          never|       0|            0|            1|            4.8|                  145.0|\n",
            "|Female|           0|            0|          never|       0|            0|            0|            5.0|                  100.0|\n",
            "|Female|           0|            0|          never|       0|            1|            0|            6.1|                   85.0|\n",
            "|Female|           0|            0|         former|       0|            1|            1|            6.0|                  100.0|\n",
            "|Female|           0|            0|         former|       0|            1|            1|            5.0|                  130.0|\n",
            "|Female|           0|            0|          never|       0|            1|            0|            5.8|                  200.0|\n",
            "|Female|           0|            0|        No Info|       0|            1|            0|            5.0|                  160.0|\n",
            "|  Male|           0|            0|        No Info|       0|            1|            0|            6.6|                  126.0|\n",
            "|  Male|           0|            0|          never|       0|            0|            1|            6.1|                  200.0|\n",
            "|Female|           0|            0|          never|       0|            0|            0|            5.7|                  158.0|\n",
            "|Female|           0|            0|        No Info|       0|            0|            0|            5.7|                   80.0|\n",
            "|  Male|           0|            0|           ever|       0|            0|            0|            3.5|                  159.0|\n",
            "+------+------------+-------------+---------------+--------+-------------+-------------+---------------+-----------------------+\n",
            "only showing top 20 rows\n",
            "\n"
          ]
        }
      ]
    },
    {
      "cell_type": "code",
      "source": [
        "df_new=spark_df_new.toPandas()"
      ],
      "metadata": {
        "id": "HqXYOXSe9M3f"
      },
      "execution_count": null,
      "outputs": []
    },
    {
      "cell_type": "markdown",
      "source": [
        "# **Boxplot after Outlier Handling**"
      ],
      "metadata": {
        "id": "6L7LaozIpihK"
      }
    },
    {
      "cell_type": "code",
      "source": [
        "\n",
        "plt.subplot(2,2,1)\n",
        "sns.boxplot(df_new[\"blood_glucose_level_new\"])\n",
        "plt.title(\"Blood_glucose_level Boxplot\")\n",
        "\n",
        "\n",
        "\n",
        "plt.subplot(2,2,2)\n",
        "sns.boxplot(df_new[\"HbA1c_level_new\"])\n",
        "plt.title(\"HbA1c_level Boxplot\")"
      ],
      "metadata": {
        "colab": {
          "base_uri": "https://localhost:8080/",
          "height": 250
        },
        "id": "JjahFVxd9YN7",
        "outputId": "e25aa865-6d8e-4139-d58f-83b606634f29"
      },
      "execution_count": null,
      "outputs": [
        {
          "output_type": "execute_result",
          "data": {
            "text/plain": [
              "Text(0.5, 1.0, 'HbA1c_level Boxplot')"
            ]
          },
          "metadata": {},
          "execution_count": 91
        },
        {
          "output_type": "display_data",
          "data": {
            "text/plain": [
              "<Figure size 640x480 with 2 Axes>"
            ],
            "image/png": "[encoded data removed]"
          },
          "metadata": {}
        }
      ]
    },
    {
      "cell_type": "markdown",
      "source": [
        "As it can be seen, outlier treatment worked"
      ],
      "metadata": {
        "id": "bJI28eczpnkX"
      }
    },
    {
      "cell_type": "code",
      "source": [
        "for colu in spark_df_new.columns:\n",
        "  print(colu,\":\",spark_df_new.filter(spark_df_new[colu].isNull()).count())"
      ],
      "metadata": {
        "colab": {
          "base_uri": "https://localhost:8080/"
        },
        "id": "vJiMPlpEb5WK",
        "outputId": "1b4aad23-5f39-46a4-a965-fc7cdb619b4e"
      },
      "execution_count": null,
      "outputs": [
        {
          "output_type": "stream",
          "name": "stdout",
          "text": [
            "gender : 0\n",
            "hypertension : 0\n",
            "heart_disease : 0\n",
            "smoking_history : 0\n",
            "diabetes : 0\n",
            "High_Risk_Age : 0\n",
            "High_Risk_Bmi : 0\n",
            "HbA1c_level_new : 0\n",
            "blood_glucose_level_new : 0\n"
          ]
        }
      ]
    },
    {
      "cell_type": "code",
      "source": [
        "new_numericals=[]\n",
        "for i in numericals:\n",
        "  new_numericals.append(i+\"_new\")"
      ],
      "metadata": {
        "id": "_yy19CNU1bpJ"
      },
      "execution_count": null,
      "outputs": []
    },
    {
      "cell_type": "code",
      "source": [
        "new_numericals"
      ],
      "metadata": {
        "colab": {
          "base_uri": "https://localhost:8080/"
        },
        "id": "BIUnTIUp1uL7",
        "outputId": "20ec69a9-cac1-4e2d-9001-c5fd74322165"
      },
      "execution_count": null,
      "outputs": [
        {
          "output_type": "execute_result",
          "data": {
            "text/plain": [
              "['HbA1c_level_new', 'blood_glucose_level_new']"
            ]
          },
          "metadata": {},
          "execution_count": 94
        }
      ]
    },
    {
      "cell_type": "markdown",
      "source": [
        "# **Numerical Values Correlation**"
      ],
      "metadata": {
        "id": "heVSdDTcqLM0"
      }
    },
    {
      "cell_type": "code",
      "source": [
        "\n",
        "sns.heatmap(df_new[new_numericals].corr(),annot=True)"
      ],
      "metadata": {
        "id": "GS5auYPOcDGE",
        "colab": {
          "base_uri": "https://localhost:8080/",
          "height": 453
        },
        "outputId": "efc79d97-1ab9-41a4-98de-14c6ea1461bb"
      },
      "execution_count": null,
      "outputs": [
        {
          "output_type": "execute_result",
          "data": {
            "text/plain": [
              "<Axes: >"
            ]
          },
          "metadata": {},
          "execution_count": 95
        },
        {
          "output_type": "display_data",
          "data": {
            "text/plain": [
              "<Figure size 640x480 with 2 Axes>"
            ],
            "image/png": "[encoded data removed]"
          },
          "metadata": {}
        }
      ]
    },
    {
      "cell_type": "markdown",
      "source": [
        "There is no strong correlation between numerical values"
      ],
      "metadata": {
        "id": "guKNsXciDODC"
      }
    },
    {
      "cell_type": "markdown",
      "source": [
        "# **Working on Another Features**"
      ],
      "metadata": {
        "id": "_xmKvH_IDVcy"
      }
    },
    {
      "cell_type": "code",
      "source": [
        "df_new.groupby(\"smoking_history\")[\"diabetes\"].value_counts().plot(kind='bar')\n",
        "plt.xlabel('Participants')\n",
        "plt.ylabel('Diabetes')\n",
        "plt.title('Yes or No ')\n",
        "plt.show()"
      ],
      "metadata": {
        "colab": {
          "base_uri": "https://localhost:8080/",
          "height": 563
        },
        "id": "6vDr0p-FqU_Q",
        "outputId": "2839afae-9aa8-4c5d-e74a-2848b94cc8ab"
      },
      "execution_count": null,
      "outputs": [
        {
          "output_type": "display_data",
          "data": {
            "text/plain": [
              "<Figure size 640x480 with 1 Axes>"
            ],
            "image/png": "[encoded data removed]"
          },
          "metadata": {}
        }
      ]
    },
    {
      "cell_type": "code",
      "source": [
        "df[\"smoking_history\"].value_counts()"
      ],
      "metadata": {
        "colab": {
          "base_uri": "https://localhost:8080/"
        },
        "id": "UTvocn2AH75l",
        "outputId": "94c89609-4e29-4c75-b40f-c933b2e56722"
      },
      "execution_count": null,
      "outputs": [
        {
          "output_type": "execute_result",
          "data": {
            "text/plain": [
              "smoking_history\n",
              "No Info        35816\n",
              "never          35095\n",
              "former          9352\n",
              "current         9286\n",
              "not current     6447\n",
              "ever            4004\n",
              "Name: count, dtype: int64"
            ]
          },
          "metadata": {},
          "execution_count": 97
        }
      ]
    },
    {
      "cell_type": "markdown",
      "source": [
        "Smoking_History feature has No Info type variable.To find which variable is best to replace that variable, it is better to look its relationship with dependent one."
      ],
      "metadata": {
        "id": "ZO5db5nN8uYX"
      }
    },
    {
      "cell_type": "code",
      "source": [
        "df_new[df_new[\"smoking_history\"]==\"No Info\"][\"diabetes\"].value_counts()"
      ],
      "metadata": {
        "colab": {
          "base_uri": "https://localhost:8080/"
        },
        "id": "EZfOT6BQDdi6",
        "outputId": "c37182fe-e70c-4aef-cc3e-40379e04c0c0"
      },
      "execution_count": null,
      "outputs": [
        {
          "output_type": "execute_result",
          "data": {
            "text/plain": [
              "diabetes\n",
              "0    34362\n",
              "1     1454\n",
              "Name: count, dtype: int64"
            ]
          },
          "metadata": {},
          "execution_count": 98
        }
      ]
    },
    {
      "cell_type": "code",
      "source": [
        "df_new[\"smoking_history\"].unique()"
      ],
      "metadata": {
        "colab": {
          "base_uri": "https://localhost:8080/"
        },
        "id": "MAsEdIeeFwWy",
        "outputId": "f3ceb659-00e6-4a9b-b2e7-181b23bb6f32"
      },
      "execution_count": null,
      "outputs": [
        {
          "output_type": "execute_result",
          "data": {
            "text/plain": [
              "array(['never', 'No Info', 'current', 'former', 'ever', 'not current'],\n",
              "      dtype=object)"
            ]
          },
          "metadata": {},
          "execution_count": 99
        }
      ]
    },
    {
      "cell_type": "code",
      "source": [
        "for i in df[\"smoking_history\"].unique():\n",
        "\n",
        "  print(i,df[df[\"smoking_history\"]==i][\"diabetes\"].value_counts()[1]/(df[df[\"smoking_history\"]==i][\"diabetes\"].value_counts()[0]+df[df[\"smoking_history\"]==i][\"diabetes\"].value_counts()[1]))"
      ],
      "metadata": {
        "colab": {
          "base_uri": "https://localhost:8080/"
        },
        "id": "J7bptDSBEiSk",
        "outputId": "8e5cf11a-48fe-471b-ab17-95f56a90c0a8"
      },
      "execution_count": null,
      "outputs": [
        {
          "output_type": "stream",
          "name": "stdout",
          "text": [
            "never 0.09534121669753526\n",
            "No Info 0.040596381505472415\n",
            "current 0.10208916648718501\n",
            "former 0.17001710863986313\n",
            "ever 0.11788211788211789\n",
            "not current 0.10702652396463472\n"
          ]
        }
      ]
    },
    {
      "cell_type": "markdown",
      "source": [
        "As it can be clearly seen, there is no significant difference between variables about relationship with dependent variable"
      ],
      "metadata": {
        "id": "l9jkzs3d9Kpc"
      }
    },
    {
      "cell_type": "code",
      "source": [
        "for i in df_new[\"smoking_history\"].unique():\n",
        "  print(i,df_new[df_new[\"smoking_history\"]==i][\"hypertension\"].value_counts()[1]/(df_new[df_new[\"smoking_history\"]==i][\"hypertension\"].value_counts()[0]+df_new[df_new[\"smoking_history\"]==i][\"hypertension\"].value_counts()[1]))\n"
      ],
      "metadata": {
        "colab": {
          "base_uri": "https://localhost:8080/"
        },
        "id": "jJE8zHQ0z5sy",
        "outputId": "e9c73fb0-6bf5-4819-9e9b-13e7ca9f60ba"
      },
      "execution_count": null,
      "outputs": [
        {
          "output_type": "stream",
          "name": "stdout",
          "text": [
            "never 0.09129505627582277\n",
            "No Info 0.03356041992405629\n",
            "current 0.08959724316174887\n",
            "former 0.14317792985457656\n",
            "ever 0.10464535464535464\n",
            "not current 0.07584923220102373\n"
          ]
        }
      ]
    },
    {
      "cell_type": "code",
      "source": [
        "for i in df_new[\"smoking_history\"].unique():\n",
        "  print(i,df_new[df_new[\"smoking_history\"]==i][\"heart_disease\"].value_counts()[1]/(df_new[df_new[\"smoking_history\"]==i][\"heart_disease\"].value_counts()[0]+df_new[df_new[\"smoking_history\"]==i][\"heart_disease\"].value_counts()[1]))"
      ],
      "metadata": {
        "colab": {
          "base_uri": "https://localhost:8080/"
        },
        "id": "V8UYSgLv0sqA",
        "outputId": "0552ec35-919f-4f79-a25e-2c0c410ac8e5"
      },
      "execution_count": null,
      "outputs": [
        {
          "output_type": "stream",
          "name": "stdout",
          "text": [
            "never 0.031258013962102864\n",
            "No Info 0.02577060531605986\n",
            "current 0.04404479862158087\n",
            "former 0.09709153122326775\n",
            "ever 0.07817182817182818\n",
            "not current 0.04529238405459904\n"
          ]
        }
      ]
    },
    {
      "cell_type": "markdown",
      "source": [
        "After looking its relationship with other categorical independent variables, it can be stated as there is no strong relationship between them. To replace that value, using the mode is the best choice."
      ],
      "metadata": {
        "id": "EtxLXo0x9ydG"
      }
    },
    {
      "cell_type": "code",
      "source": [
        "spark_df_new=spark_df_new.replace(\"No Info\", \"never\")"
      ],
      "metadata": {
        "id": "uJLs94kH2NYM"
      },
      "execution_count": null,
      "outputs": []
    },
    {
      "cell_type": "code",
      "source": [
        "spark_df_new.show()"
      ],
      "metadata": {
        "colab": {
          "base_uri": "https://localhost:8080/"
        },
        "id": "d1HrC24i4nJI",
        "outputId": "d853a980-722f-4c87-ae9d-d04ad6dc915d"
      },
      "execution_count": null,
      "outputs": [
        {
          "output_type": "stream",
          "name": "stdout",
          "text": [
            "+------+------------+-------------+---------------+--------+-------------+-------------+---------------+-----------------------+\n",
            "|gender|hypertension|heart_disease|smoking_history|diabetes|High_Risk_Age|High_Risk_Bmi|HbA1c_level_new|blood_glucose_level_new|\n",
            "+------+------------+-------------+---------------+--------+-------------+-------------+---------------+-----------------------+\n",
            "|Female|           0|            1|          never|       0|            1|            0|            6.6|                  140.0|\n",
            "|Female|           0|            0|          never|       0|            1|            0|            6.6|                   80.0|\n",
            "|  Male|           0|            0|          never|       0|            0|            0|            5.7|                  158.0|\n",
            "|Female|           0|            0|        current|       0|            0|            0|            5.0|                  155.0|\n",
            "|  Male|           1|            1|        current|       0|            1|            0|            4.8|                  155.0|\n",
            "|Female|           0|            0|          never|       0|            0|            0|            6.6|                   85.0|\n",
            "|Female|           0|            0|          never|       1|            0|            0|            6.5|                  200.0|\n",
            "|Female|           0|            0|          never|       0|            1|            0|            5.7|                   85.0|\n",
            "|  Male|           0|            0|          never|       0|            0|            1|            4.8|                  145.0|\n",
            "|Female|           0|            0|          never|       0|            0|            0|            5.0|                  100.0|\n",
            "|Female|           0|            0|          never|       0|            1|            0|            6.1|                   85.0|\n",
            "|Female|           0|            0|         former|       0|            1|            1|            6.0|                  100.0|\n",
            "|Female|           0|            0|         former|       0|            1|            1|            5.0|                  130.0|\n",
            "|Female|           0|            0|          never|       0|            1|            0|            5.8|                  200.0|\n",
            "|Female|           0|            0|          never|       0|            1|            0|            5.0|                  160.0|\n",
            "|  Male|           0|            0|          never|       0|            1|            0|            6.6|                  126.0|\n",
            "|  Male|           0|            0|          never|       0|            0|            1|            6.1|                  200.0|\n",
            "|Female|           0|            0|          never|       0|            0|            0|            5.7|                  158.0|\n",
            "|Female|           0|            0|          never|       0|            0|            0|            5.7|                   80.0|\n",
            "|  Male|           0|            0|           ever|       0|            0|            0|            3.5|                  159.0|\n",
            "+------+------------+-------------+---------------+--------+-------------+-------------+---------------+-----------------------+\n",
            "only showing top 20 rows\n",
            "\n"
          ]
        }
      ]
    },
    {
      "cell_type": "code",
      "source": [
        "spark_df_new.select(\"smoking_history\").distinct().count()"
      ],
      "metadata": {
        "colab": {
          "base_uri": "https://localhost:8080/"
        },
        "id": "loSmIk8i3liZ",
        "outputId": "3ea17df8-0246-4253-e0eb-c39b0c5604b4"
      },
      "execution_count": null,
      "outputs": [
        {
          "output_type": "execute_result",
          "data": {
            "text/plain": [
              "5"
            ]
          },
          "metadata": {},
          "execution_count": 105
        }
      ]
    },
    {
      "cell_type": "code",
      "source": [
        "sns.histplot(df_new[\"blood_glucose_level_new\"],kde=True)\n",
        "plt.axvline(np.mean(df_new[\"blood_glucose_level_new\"]),ls=\"--\",c=\"g\",label=\"Mean\")\n",
        "plt.axvline(np.median(df_new[\"blood_glucose_level_new\"]),ls=\":\",c=\"r\",label=\"Median\")\n",
        "plt.title(\"Blood Glucose Level Histogram Distribution\");\n",
        "plt.legend()"
      ],
      "metadata": {
        "colab": {
          "base_uri": "https://localhost:8080/",
          "height": 490
        },
        "id": "DGrFhHru-jz_",
        "outputId": "cd034af2-0dd8-4560-cf9e-6574e68e940e"
      },
      "execution_count": null,
      "outputs": [
        {
          "output_type": "execute_result",
          "data": {
            "text/plain": [
              "<matplotlib.legend.Legend at 0x79f1db47e2f0>"
            ]
          },
          "metadata": {},
          "execution_count": 107
        },
        {
          "output_type": "display_data",
          "data": {
            "text/plain": [
              "<Figure size 640x480 with 1 Axes>"
            ],
            "image/png": "[encoded data removed]"
          },
          "metadata": {}
        }
      ]
    },
    {
      "cell_type": "code",
      "source": [
        "sns.histplot(df_new[\"HbA1c_level_new\"],kde=True)\n",
        "plt.axvline(np.mean(df_new[\"HbA1c_level_new\"]),ls=\"--\",c=\"g\",label=\"Mean\")\n",
        "plt.axvline(np.median(df_new[\"HbA1c_level_new\"]),ls=\":\",c=\"r\",label=\"Median\")\n",
        "plt.title(\"HbA1c Level Histogram Distribution\");\n",
        "plt.legend()"
      ],
      "metadata": {
        "colab": {
          "base_uri": "https://localhost:8080/",
          "height": 490
        },
        "id": "iUiU7LltA0_C",
        "outputId": "a6b9da8a-ccfa-4470-c235-e05b1028d1c9"
      },
      "execution_count": null,
      "outputs": [
        {
          "output_type": "execute_result",
          "data": {
            "text/plain": [
              "<matplotlib.legend.Legend at 0x79f1d514b4c0>"
            ]
          },
          "metadata": {},
          "execution_count": 108
        },
        {
          "output_type": "display_data",
          "data": {
            "text/plain": [
              "<Figure size 640x480 with 1 Axes>"
            ],
            "image/png": "[encoded data removed]"
          },
          "metadata": {}
        }
      ]
    },
    {
      "cell_type": "markdown",
      "source": [
        "# **StringIndex**"
      ],
      "metadata": {
        "id": "8NCwqtoDDZHu"
      }
    },
    {
      "cell_type": "code",
      "source": [
        "from pyspark.ml.feature import StringIndexer\n",
        "stringIndexer=StringIndexer(inputCol=\"diabetes\",outputCol=\"label\")\n",
        "spark_df_ind=stringIndexer.fit(spark_df_new).transform(spark_df_new)"
      ],
      "metadata": {
        "id": "v8f6o_n6Dx-l"
      },
      "execution_count": null,
      "outputs": []
    },
    {
      "cell_type": "code",
      "source": [
        "spark_df_ind.dtypes"
      ],
      "metadata": {
        "colab": {
          "base_uri": "https://localhost:8080/"
        },
        "id": "9P678lLDE-6M",
        "outputId": "99416128-062d-4616-ad9c-834ba527dc17"
      },
      "execution_count": null,
      "outputs": [
        {
          "output_type": "execute_result",
          "data": {
            "text/plain": [
              "[('gender', 'string'),\n",
              " ('hypertension', 'int'),\n",
              " ('heart_disease', 'int'),\n",
              " ('smoking_history', 'string'),\n",
              " ('diabetes', 'int'),\n",
              " ('High_Risk_Age', 'int'),\n",
              " ('High_Risk_Bmi', 'int'),\n",
              " ('HbA1c_level_new', 'double'),\n",
              " ('blood_glucose_level_new', 'double'),\n",
              " ('label', 'double')]"
            ]
          },
          "metadata": {},
          "execution_count": 110
        }
      ]
    },
    {
      "cell_type": "code",
      "source": [
        "spark_df_ind=spark_df_ind.withColumn(\"label\",spark_df_ind[\"label\"].cast(\"integer\"))"
      ],
      "metadata": {
        "id": "6-s1bEupFFUP"
      },
      "execution_count": null,
      "outputs": []
    },
    {
      "cell_type": "code",
      "source": [
        "spark_df_ind.dtypes"
      ],
      "metadata": {
        "colab": {
          "base_uri": "https://localhost:8080/"
        },
        "id": "sypWekRiFXHS",
        "outputId": "3eddfe40-4a33-4639-f6f5-33d928a7f112"
      },
      "execution_count": null,
      "outputs": [
        {
          "output_type": "execute_result",
          "data": {
            "text/plain": [
              "[('gender', 'string'),\n",
              " ('hypertension', 'int'),\n",
              " ('heart_disease', 'int'),\n",
              " ('smoking_history', 'string'),\n",
              " ('diabetes', 'int'),\n",
              " ('High_Risk_Age', 'int'),\n",
              " ('High_Risk_Bmi', 'int'),\n",
              " ('HbA1c_level_new', 'double'),\n",
              " ('blood_glucose_level_new', 'double'),\n",
              " ('label', 'int')]"
            ]
          },
          "metadata": {},
          "execution_count": 112
        }
      ]
    },
    {
      "cell_type": "code",
      "source": [
        "spark_df_ind.show()"
      ],
      "metadata": {
        "colab": {
          "base_uri": "https://localhost:8080/"
        },
        "id": "ezX4n8noFaC7",
        "outputId": "7d2ea52b-4f5e-4331-fcc2-fdb38fd150af"
      },
      "execution_count": null,
      "outputs": [
        {
          "output_type": "stream",
          "name": "stdout",
          "text": [
            "+------+------------+-------------+---------------+--------+-------------+-------------+---------------+-----------------------+-----+\n",
            "|gender|hypertension|heart_disease|smoking_history|diabetes|High_Risk_Age|High_Risk_Bmi|HbA1c_level_new|blood_glucose_level_new|label|\n",
            "+------+------------+-------------+---------------+--------+-------------+-------------+---------------+-----------------------+-----+\n",
            "|Female|           0|            1|          never|       0|            1|            0|            6.6|                  140.0|    0|\n",
            "|Female|           0|            0|          never|       0|            1|            0|            6.6|                   80.0|    0|\n",
            "|  Male|           0|            0|          never|       0|            0|            0|            5.7|                  158.0|    0|\n",
            "|Female|           0|            0|        current|       0|            0|            0|            5.0|                  155.0|    0|\n",
            "|  Male|           1|            1|        current|       0|            1|            0|            4.8|                  155.0|    0|\n",
            "|Female|           0|            0|          never|       0|            0|            0|            6.6|                   85.0|    0|\n",
            "|Female|           0|            0|          never|       1|            0|            0|            6.5|                  200.0|    1|\n",
            "|Female|           0|            0|          never|       0|            1|            0|            5.7|                   85.0|    0|\n",
            "|  Male|           0|            0|          never|       0|            0|            1|            4.8|                  145.0|    0|\n",
            "|Female|           0|            0|          never|       0|            0|            0|            5.0|                  100.0|    0|\n",
            "|Female|           0|            0|          never|       0|            1|            0|            6.1|                   85.0|    0|\n",
            "|Female|           0|            0|         former|       0|            1|            1|            6.0|                  100.0|    0|\n",
            "|Female|           0|            0|         former|       0|            1|            1|            5.0|                  130.0|    0|\n",
            "|Female|           0|            0|          never|       0|            1|            0|            5.8|                  200.0|    0|\n",
            "|Female|           0|            0|          never|       0|            1|            0|            5.0|                  160.0|    0|\n",
            "|  Male|           0|            0|          never|       0|            1|            0|            6.6|                  126.0|    0|\n",
            "|  Male|           0|            0|          never|       0|            0|            1|            6.1|                  200.0|    0|\n",
            "|Female|           0|            0|          never|       0|            0|            0|            5.7|                  158.0|    0|\n",
            "|Female|           0|            0|          never|       0|            0|            0|            5.7|                   80.0|    0|\n",
            "|  Male|           0|            0|           ever|       0|            0|            0|            3.5|                  159.0|    0|\n",
            "+------+------------+-------------+---------------+--------+-------------+-------------+---------------+-----------------------+-----+\n",
            "only showing top 20 rows\n",
            "\n"
          ]
        }
      ]
    },
    {
      "cell_type": "code",
      "source": [
        "from pyspark.ml import Pipeline\n",
        "\n",
        "indexers = [StringIndexer(inputCol=column, outputCol=column+\"_index\").fit(spark_df_ind) for column in list(set(spark_df_ind.columns)-set(new_numericals)-set([\"label\"]))]\n",
        "\n",
        "\n",
        "pipeline = Pipeline(stages=indexers)\n",
        "spark_df_ind = pipeline.fit(spark_df_ind).transform(spark_df_ind)\n",
        "\n",
        "spark_df_ind.show()"
      ],
      "metadata": {
        "colab": {
          "base_uri": "https://localhost:8080/"
        },
        "id": "-ISQwzXx2VrD",
        "outputId": "c9b59edf-d879-49c6-cfcb-fd572a16db55"
      },
      "execution_count": null,
      "outputs": [
        {
          "output_type": "stream",
          "name": "stdout",
          "text": [
            "+------+------------+-------------+---------------+--------+-------------+-------------+---------------+-----------------------+-----+------------+---------------------+-------------------+-------------------+------------------+-------------------+--------------+\n",
            "|gender|hypertension|heart_disease|smoking_history|diabetes|High_Risk_Age|High_Risk_Bmi|HbA1c_level_new|blood_glucose_level_new|label|gender_index|smoking_history_index|High_Risk_Age_index|heart_disease_index|hypertension_index|High_Risk_Bmi_index|diabetes_index|\n",
            "+------+------------+-------------+---------------+--------+-------------+-------------+---------------+-----------------------+-----+------------+---------------------+-------------------+-------------------+------------------+-------------------+--------------+\n",
            "|Female|           0|            1|          never|       0|            1|            0|            6.6|                  140.0|    0|         0.0|                  0.0|                1.0|                1.0|               0.0|                0.0|           0.0|\n",
            "|Female|           0|            0|          never|       0|            1|            0|            6.6|                   80.0|    0|         0.0|                  0.0|                1.0|                0.0|               0.0|                0.0|           0.0|\n",
            "|  Male|           0|            0|          never|       0|            0|            0|            5.7|                  158.0|    0|         1.0|                  0.0|                0.0|                0.0|               0.0|                0.0|           0.0|\n",
            "|Female|           0|            0|        current|       0|            0|            0|            5.0|                  155.0|    0|         0.0|                  2.0|                0.0|                0.0|               0.0|                0.0|           0.0|\n",
            "|  Male|           1|            1|        current|       0|            1|            0|            4.8|                  155.0|    0|         1.0|                  2.0|                1.0|                1.0|               1.0|                0.0|           0.0|\n",
            "|Female|           0|            0|          never|       0|            0|            0|            6.6|                   85.0|    0|         0.0|                  0.0|                0.0|                0.0|               0.0|                0.0|           0.0|\n",
            "|Female|           0|            0|          never|       1|            0|            0|            6.5|                  200.0|    1|         0.0|                  0.0|                0.0|                0.0|               0.0|                0.0|           1.0|\n",
            "|Female|           0|            0|          never|       0|            1|            0|            5.7|                   85.0|    0|         0.0|                  0.0|                1.0|                0.0|               0.0|                0.0|           0.0|\n",
            "|  Male|           0|            0|          never|       0|            0|            1|            4.8|                  145.0|    0|         1.0|                  0.0|                0.0|                0.0|               0.0|                1.0|           0.0|\n",
            "|Female|           0|            0|          never|       0|            0|            0|            5.0|                  100.0|    0|         0.0|                  0.0|                0.0|                0.0|               0.0|                0.0|           0.0|\n",
            "|Female|           0|            0|          never|       0|            1|            0|            6.1|                   85.0|    0|         0.0|                  0.0|                1.0|                0.0|               0.0|                0.0|           0.0|\n",
            "|Female|           0|            0|         former|       0|            1|            1|            6.0|                  100.0|    0|         0.0|                  1.0|                1.0|                0.0|               0.0|                1.0|           0.0|\n",
            "|Female|           0|            0|         former|       0|            1|            1|            5.0|                  130.0|    0|         0.0|                  1.0|                1.0|                0.0|               0.0|                1.0|           0.0|\n",
            "|Female|           0|            0|          never|       0|            1|            0|            5.8|                  200.0|    0|         0.0|                  0.0|                1.0|                0.0|               0.0|                0.0|           0.0|\n",
            "|Female|           0|            0|          never|       0|            1|            0|            5.0|                  160.0|    0|         0.0|                  0.0|                1.0|                0.0|               0.0|                0.0|           0.0|\n",
            "|  Male|           0|            0|          never|       0|            1|            0|            6.6|                  126.0|    0|         1.0|                  0.0|                1.0|                0.0|               0.0|                0.0|           0.0|\n",
            "|  Male|           0|            0|          never|       0|            0|            1|            6.1|                  200.0|    0|         1.0|                  0.0|                0.0|                0.0|               0.0|                1.0|           0.0|\n",
            "|Female|           0|            0|          never|       0|            0|            0|            5.7|                  158.0|    0|         0.0|                  0.0|                0.0|                0.0|               0.0|                0.0|           0.0|\n",
            "|Female|           0|            0|          never|       0|            0|            0|            5.7|                   80.0|    0|         0.0|                  0.0|                0.0|                0.0|               0.0|                0.0|           0.0|\n",
            "|  Male|           0|            0|           ever|       0|            0|            0|            3.5|                  159.0|    0|         1.0|                  4.0|                0.0|                0.0|               0.0|                0.0|           0.0|\n",
            "+------+------------+-------------+---------------+--------+-------------+-------------+---------------+-----------------------+-----+------------+---------------------+-------------------+-------------------+------------------+-------------------+--------------+\n",
            "only showing top 20 rows\n",
            "\n"
          ]
        }
      ]
    },
    {
      "cell_type": "code",
      "source": [
        "non_numericals=list(set(spark_df_new.columns)-set(new_numericals))"
      ],
      "metadata": {
        "id": "LXobLC5jAc4g"
      },
      "execution_count": null,
      "outputs": []
    },
    {
      "cell_type": "code",
      "source": [
        "non_numericals"
      ],
      "metadata": {
        "colab": {
          "base_uri": "https://localhost:8080/"
        },
        "id": "hwyqeFFPBXB4",
        "outputId": "31c208bb-983e-4ed0-f11a-ba48bcb422b2"
      },
      "execution_count": null,
      "outputs": [
        {
          "output_type": "execute_result",
          "data": {
            "text/plain": [
              "['gender',\n",
              " 'smoking_history',\n",
              " 'High_Risk_Age',\n",
              " 'heart_disease',\n",
              " 'hypertension',\n",
              " 'High_Risk_Bmi',\n",
              " 'diabetes']"
            ]
          },
          "metadata": {},
          "execution_count": 116
        }
      ]
    },
    {
      "cell_type": "code",
      "source": [
        "spark_df_ind=spark_df_ind.drop('smoking_history',\n",
        " 'High_Risk_Age',\"High_Risk_bmi\",\n",
        " 'diabetes',\n",
        " 'hypertension',\n",
        " 'heart_disease',\n",
        " 'gender','diabetes','diabetes_index')"
      ],
      "metadata": {
        "id": "9E3hqTLwA0kJ"
      },
      "execution_count": null,
      "outputs": []
    },
    {
      "cell_type": "code",
      "source": [
        "spark_df_ind.show()"
      ],
      "metadata": {
        "colab": {
          "base_uri": "https://localhost:8080/"
        },
        "id": "mLAGavHzBsz3",
        "outputId": "dcd47ec5-8cda-4c71-b587-8475d0fb7c36"
      },
      "execution_count": null,
      "outputs": [
        {
          "output_type": "stream",
          "name": "stdout",
          "text": [
            "+---------------+-----------------------+-----+------------+---------------------+-------------------+-------------------+------------------+-------------------+\n",
            "|HbA1c_level_new|blood_glucose_level_new|label|gender_index|smoking_history_index|High_Risk_Age_index|heart_disease_index|hypertension_index|High_Risk_Bmi_index|\n",
            "+---------------+-----------------------+-----+------------+---------------------+-------------------+-------------------+------------------+-------------------+\n",
            "|            6.6|                  140.0|    0|         0.0|                  0.0|                1.0|                1.0|               0.0|                0.0|\n",
            "|            6.6|                   80.0|    0|         0.0|                  0.0|                1.0|                0.0|               0.0|                0.0|\n",
            "|            5.7|                  158.0|    0|         1.0|                  0.0|                0.0|                0.0|               0.0|                0.0|\n",
            "|            5.0|                  155.0|    0|         0.0|                  2.0|                0.0|                0.0|               0.0|                0.0|\n",
            "|            4.8|                  155.0|    0|         1.0|                  2.0|                1.0|                1.0|               1.0|                0.0|\n",
            "|            6.6|                   85.0|    0|         0.0|                  0.0|                0.0|                0.0|               0.0|                0.0|\n",
            "|            6.5|                  200.0|    1|         0.0|                  0.0|                0.0|                0.0|               0.0|                0.0|\n",
            "|            5.7|                   85.0|    0|         0.0|                  0.0|                1.0|                0.0|               0.0|                0.0|\n",
            "|            4.8|                  145.0|    0|         1.0|                  0.0|                0.0|                0.0|               0.0|                1.0|\n",
            "|            5.0|                  100.0|    0|         0.0|                  0.0|                0.0|                0.0|               0.0|                0.0|\n",
            "|            6.1|                   85.0|    0|         0.0|                  0.0|                1.0|                0.0|               0.0|                0.0|\n",
            "|            6.0|                  100.0|    0|         0.0|                  1.0|                1.0|                0.0|               0.0|                1.0|\n",
            "|            5.0|                  130.0|    0|         0.0|                  1.0|                1.0|                0.0|               0.0|                1.0|\n",
            "|            5.8|                  200.0|    0|         0.0|                  0.0|                1.0|                0.0|               0.0|                0.0|\n",
            "|            5.0|                  160.0|    0|         0.0|                  0.0|                1.0|                0.0|               0.0|                0.0|\n",
            "|            6.6|                  126.0|    0|         1.0|                  0.0|                1.0|                0.0|               0.0|                0.0|\n",
            "|            6.1|                  200.0|    0|         1.0|                  0.0|                0.0|                0.0|               0.0|                1.0|\n",
            "|            5.7|                  158.0|    0|         0.0|                  0.0|                0.0|                0.0|               0.0|                0.0|\n",
            "|            5.7|                   80.0|    0|         0.0|                  0.0|                0.0|                0.0|               0.0|                0.0|\n",
            "|            3.5|                  159.0|    0|         1.0|                  4.0|                0.0|                0.0|               0.0|                0.0|\n",
            "+---------------+-----------------------+-----+------------+---------------------+-------------------+-------------------+------------------+-------------------+\n",
            "only showing top 20 rows\n",
            "\n"
          ]
        }
      ]
    },
    {
      "cell_type": "markdown",
      "source": [
        "# **Vectorization**"
      ],
      "metadata": {
        "id": "6MatCSOLEc-P"
      }
    },
    {
      "cell_type": "code",
      "source": [
        "from pyspark.ml.feature import VectorAssembler"
      ],
      "metadata": {
        "id": "ytOFr1YjGlT5"
      },
      "execution_count": null,
      "outputs": []
    },
    {
      "cell_type": "code",
      "source": [
        "vectorAssembler=VectorAssembler(inputCols=list(set(spark_df_ind.columns)-set([\"label\"])),outputCol=\"features\")"
      ],
      "metadata": {
        "id": "CzYCnqFlG_0Z"
      },
      "execution_count": null,
      "outputs": []
    },
    {
      "cell_type": "code",
      "source": [
        "va_df=vectorAssembler.transform(spark_df_ind)"
      ],
      "metadata": {
        "id": "vqHbeqxfH2fO"
      },
      "execution_count": null,
      "outputs": []
    },
    {
      "cell_type": "code",
      "source": [
        "final_df=va_df.select([\"features\",\"label\"])"
      ],
      "metadata": {
        "id": "TYlgRhj6IJ8I"
      },
      "execution_count": null,
      "outputs": []
    },
    {
      "cell_type": "code",
      "source": [
        "final_df.show()"
      ],
      "metadata": {
        "colab": {
          "base_uri": "https://localhost:8080/"
        },
        "id": "bfgSo7RaIXFp",
        "outputId": "69eb2fdb-9d96-4f91-af89-7c0cd0ff2a8a"
      },
      "execution_count": null,
      "outputs": [
        {
          "output_type": "stream",
          "name": "stdout",
          "text": [
            "+--------------------+-----+\n",
            "|            features|label|\n",
            "+--------------------+-----+\n",
            "|(8,[0,1,4,5],[1.0...|    0|\n",
            "|(8,[1,4,5],[80.0,...|    0|\n",
            "|(8,[1,2,4],[158.0...|    0|\n",
            "|(8,[1,4,7],[155.0...|    0|\n",
            "|[1.0,155.0,1.0,1....|    0|\n",
            "|(8,[1,4],[85.0,6.6])|    0|\n",
            "|(8,[1,4],[200.0,6...|    1|\n",
            "|(8,[1,4,5],[85.0,...|    0|\n",
            "|(8,[1,2,4,6],[145...|    0|\n",
            "|(8,[1,4],[100.0,5...|    0|\n",
            "|(8,[1,4,5],[85.0,...|    0|\n",
            "|[0.0,100.0,0.0,0....|    0|\n",
            "|[0.0,130.0,0.0,0....|    0|\n",
            "|(8,[1,4,5],[200.0...|    0|\n",
            "|(8,[1,4,5],[160.0...|    0|\n",
            "|(8,[1,2,4,5],[126...|    0|\n",
            "|(8,[1,2,4,6],[200...|    0|\n",
            "|(8,[1,4],[158.0,5...|    0|\n",
            "|(8,[1,4],[80.0,5.7])|    0|\n",
            "|(8,[1,2,4,7],[159...|    0|\n",
            "+--------------------+-----+\n",
            "only showing top 20 rows\n",
            "\n"
          ]
        }
      ]
    },
    {
      "cell_type": "markdown",
      "source": [
        "# **Train-Test Split**"
      ],
      "metadata": {
        "id": "J4Y2FRkyEgBb"
      }
    },
    {
      "cell_type": "code",
      "source": [
        "splits=final_df.randomSplit([0.7,0.3])\n",
        "train_df=splits[0]\n",
        "test_df=splits[1]"
      ],
      "metadata": {
        "id": "tBNUj7RaIgQW"
      },
      "execution_count": null,
      "outputs": []
    },
    {
      "cell_type": "markdown",
      "source": [
        "# **Model Training**"
      ],
      "metadata": {
        "id": "GRy8msZkEkkK"
      }
    },
    {
      "cell_type": "code",
      "source": [
        "from pyspark.ml.classification import GBTClassifier"
      ],
      "metadata": {
        "id": "zyQUYGdAIw5g"
      },
      "execution_count": null,
      "outputs": []
    },
    {
      "cell_type": "code",
      "source": [
        "gbm=GBTClassifier(maxIter=10,featuresCol=\"features\",labelCol=\"label\")"
      ],
      "metadata": {
        "id": "BJ92EFbJKvAa"
      },
      "execution_count": null,
      "outputs": []
    },
    {
      "cell_type": "code",
      "source": [
        "gbm_model=gbm.fit(train_df)"
      ],
      "metadata": {
        "id": "9GZkuApCK-vi"
      },
      "execution_count": null,
      "outputs": []
    },
    {
      "cell_type": "code",
      "source": [
        "y_pred=gbm_model.transform(test_df)"
      ],
      "metadata": {
        "id": "yRy0oSybLWoU"
      },
      "execution_count": null,
      "outputs": []
    },
    {
      "cell_type": "code",
      "source": [
        "ac=y_pred.select(\"label\",\"prediction\")"
      ],
      "metadata": {
        "id": "oqqY3V4MLeHH"
      },
      "execution_count": null,
      "outputs": []
    },
    {
      "cell_type": "code",
      "source": [
        "ac.filter(ac.label==ac.prediction).count()/ac.count()"
      ],
      "metadata": {
        "colab": {
          "base_uri": "https://localhost:8080/"
        },
        "id": "-vfO3wIxLlUD",
        "outputId": "247adaac-ee7c-4461-e740-1845548af8b8"
      },
      "execution_count": null,
      "outputs": [
        {
          "output_type": "execute_result",
          "data": {
            "text/plain": [
              "0.9726205562595878"
            ]
          },
          "metadata": {},
          "execution_count": 132
        }
      ]
    },
    {
      "cell_type": "code",
      "source": [
        "from pyspark.ml.evaluation import BinaryClassificationEvaluator\n",
        "from pyspark.ml.tuning import ParamGridBuilder, CrossValidator\n",
        "\n",
        "evaluator = BinaryClassificationEvaluator()\n",
        "\n",
        "paramGrid = (ParamGridBuilder()\n",
        "             .addGrid(gbm.maxDepth, [2, 4, 6])\n",
        "             .addGrid(gbm.maxBins, [20, 30])\n",
        "             .addGrid(gbm.maxIter, [10, 20])\n",
        "             .build())\n",
        "\n",
        "cv = CrossValidator(estimator= gbm, estimatorParamMaps = paramGrid, evaluator=evaluator, numFolds= 10)"
      ],
      "metadata": {
        "id": "wf8E197NOtc8"
      },
      "execution_count": null,
      "outputs": []
    },
    {
      "cell_type": "code",
      "source": [
        "v_model = cv.fit(train_df)"
      ],
      "metadata": {
        "id": "PuPeuMJqOx0J"
      },
      "execution_count": 137,
      "outputs": []
    },
    {
      "cell_type": "code",
      "source": [
        "y_pred = v_model.transform(test_df)\n",
        "ac = y_pred.select(\"label\",\"prediction\")"
      ],
      "metadata": {
        "id": "rQ--7MdhO0xW"
      },
      "execution_count": 138,
      "outputs": []
    },
    {
      "cell_type": "code",
      "source": [
        "evaluator.evaluate(y_pred)"
      ],
      "metadata": {
        "colab": {
          "base_uri": "https://localhost:8080/"
        },
        "id": "tg0V1FbFO6_L",
        "outputId": "61a1b4b4-a43f-4a78-ed1e-64f2c54475df"
      },
      "execution_count": 140,
      "outputs": [
        {
          "output_type": "execute_result",
          "data": {
            "text/plain": [
              "0.9750312796542681"
            ]
          },
          "metadata": {},
          "execution_count": 140
        }
      ]
    }
  ]
}